{
 "metadata": {
  "language_info": {
   "codemirror_mode": {
    "name": "ipython",
    "version": 3
   },
   "file_extension": ".py",
   "mimetype": "text/x-python",
   "name": "python",
   "nbconvert_exporter": "python",
   "pygments_lexer": "ipython3",
   "version": "3.8.5"
  },
  "orig_nbformat": 4,
  "kernelspec": {
   "name": "python3",
   "display_name": "Python 3.8.5 64-bit ('base': conda)"
  },
  "interpreter": {
   "hash": "dca0ade3e726a953b501b15e8e990130d2b7799f14cfd9f4271676035ebe5511"
  }
 },
 "nbformat": 4,
 "nbformat_minor": 2,
 "cells": [
  {
   "source": [
    "##Cleaning and Preprocessing Data for Machine Learning"
   ],
   "cell_type": "markdown",
   "metadata": {}
  },
  {
   "cell_type": "code",
   "execution_count": 31,
   "metadata": {},
   "outputs": [],
   "source": [
    "import warnings\n",
    "warnings.simplefilter('ignore')\n",
    "\n",
    "# %matplotlib inline\n",
    "import matplotlib.pyplot as plt\n",
    "import numpy as np\n",
    "import pandas as pd\n",
    "import random\n",
    "\n",
    "from datetime import datetime, date\n",
    "import time\n",
    "#from google.colab import files"
   ]
  },
  {
   "cell_type": "code",
   "execution_count": 32,
   "metadata": {},
   "outputs": [
    {
     "output_type": "stream",
     "name": "stdout",
     "text": [
      "<class 'pandas.core.frame.DataFrame'>\nRangeIndex: 214322 entries, 0 to 214321\nData columns (total 25 columns):\n #   Column                  Non-Null Count   Dtype  \n---  ------                  --------------   -----  \n 0   tournament_date         214322 non-null  object \n 1   day                     214322 non-null  int64  \n 2   wrestler1_id            214322 non-null  int64  \n 3   wrestler1_rank          214322 non-null  object \n 4   wrestler1_name          214322 non-null  object \n 5   wrestler1_result        214322 non-null  object \n 6   wrestler1_win           214322 non-null  int64  \n 7   finishing_move          214322 non-null  object \n 8   wrestler2_id            214322 non-null  int64  \n 9   wrestler2_rank          214322 non-null  object \n 10  wrestler2_name          214322 non-null  object \n 11  wrestler2_result        214322 non-null  object \n 12  wrestler2_win           214322 non-null  int64  \n 13  wrestler_1_stable       214322 non-null  object \n 14  wrestler_1_birth_place  214322 non-null  object \n 15  wrestler_1_birth_date   214322 non-null  object \n 16  wrestler_1_height       214322 non-null  float64\n 17  wrestler_1_weight       214322 non-null  float64\n 18  wrestler_2_stable       214322 non-null  object \n 19  wrestler_2_birth_place  214322 non-null  object \n 20  wrestler_2_birth_date   214322 non-null  object \n 21  wrestler_2_height       214322 non-null  float64\n 22  wrestler_2_weight       214322 non-null  float64\n 23  wrestler_1_age          214322 non-null  int64  \n 24  wrestler_2_age          214322 non-null  int64  \ndtypes: float64(4), int64(7), object(14)\nmemory usage: 40.9+ MB\n"
     ]
    }
   ],
   "source": [
    "# Read results csv file into a pandas DataFrame\n",
    "\n",
    "sumo_df = pd.read_csv('https://sumo-data-bucket.s3.amazonaws.com/sumo_data.csv')\n",
    "sumo_df.info()"
   ]
  },
  {
   "cell_type": "code",
   "execution_count": 33,
   "metadata": {},
   "outputs": [
    {
     "output_type": "execute_result",
     "data": {
      "text/plain": [
       "       tournament_date  day  wrestler1_id wrestler1_rank wrestler1_name  \\\n",
       "117466      2004-05-01    1            81           J14w      Wakakosho   \n",
       "117467      2004-05-01    5           784           J13e      Daishodai   \n",
       "117468      2004-05-01    2          1227           J13w    Toyonoshima   \n",
       "117469      2004-05-01    7           101           J12e     Dewanofuji   \n",
       "117470      2004-05-01    6           874           J11e    Hamanishiki   \n",
       "\n",
       "       wrestler1_result  wrestler1_win finishing_move  wrestler2_id  \\\n",
       "117466        1-0 (7-8)              1     hatakikomi           103   \n",
       "117467        1-4 (6-9)              1       yorikiri           103   \n",
       "117468       2-0 (11-4)              1      sukuinage           103   \n",
       "117469       2-5 (3-12)              0       yorikiri           103   \n",
       "117470        4-2 (9-6)              1     hikiotoshi           103   \n",
       "\n",
       "       wrestler2_rank  ... wrestler_1_birth_date wrestler_1_height  \\\n",
       "117466           J14e  ...            1975-03-04             185.0   \n",
       "117467           J14e  ...            1976-02-25             176.0   \n",
       "117468           J14e  ...            1983-06-29             171.0   \n",
       "117469           J14e  ...            1976-12-04             184.0   \n",
       "117470           J14e  ...            1976-11-23             181.0   \n",
       "\n",
       "        wrestler_1_weight wrestler_2_stable wrestler_2_birth_place  \\\n",
       "117466              175.0          Kasugano                Saitama   \n",
       "117467              158.0          Kasugano                Saitama   \n",
       "117468              121.0          Kasugano                Saitama   \n",
       "117469              128.0          Kasugano                Saitama   \n",
       "117470              125.0          Kasugano                Saitama   \n",
       "\n",
       "       wrestler_2_birth_date  wrestler_2_height  wrestler_2_weight  \\\n",
       "117466            1977-06-14              191.0              168.5   \n",
       "117467            1977-06-14              191.0              168.5   \n",
       "117468            1977-06-14              191.0              168.5   \n",
       "117469            1977-06-14              191.0              168.5   \n",
       "117470            1977-06-14              191.0              168.5   \n",
       "\n",
       "       wrestler_1_age wrestler_2_age  \n",
       "117466             29             27  \n",
       "117467             28             27  \n",
       "117468             21             27  \n",
       "117469             28             27  \n",
       "117470             28             27  \n",
       "\n",
       "[5 rows x 25 columns]"
      ],
      "text/html": "<div>\n<style scoped>\n    .dataframe tbody tr th:only-of-type {\n        vertical-align: middle;\n    }\n\n    .dataframe tbody tr th {\n        vertical-align: top;\n    }\n\n    .dataframe thead th {\n        text-align: right;\n    }\n</style>\n<table border=\"1\" class=\"dataframe\">\n  <thead>\n    <tr style=\"text-align: right;\">\n      <th></th>\n      <th>tournament_date</th>\n      <th>day</th>\n      <th>wrestler1_id</th>\n      <th>wrestler1_rank</th>\n      <th>wrestler1_name</th>\n      <th>wrestler1_result</th>\n      <th>wrestler1_win</th>\n      <th>finishing_move</th>\n      <th>wrestler2_id</th>\n      <th>wrestler2_rank</th>\n      <th>...</th>\n      <th>wrestler_1_birth_date</th>\n      <th>wrestler_1_height</th>\n      <th>wrestler_1_weight</th>\n      <th>wrestler_2_stable</th>\n      <th>wrestler_2_birth_place</th>\n      <th>wrestler_2_birth_date</th>\n      <th>wrestler_2_height</th>\n      <th>wrestler_2_weight</th>\n      <th>wrestler_1_age</th>\n      <th>wrestler_2_age</th>\n    </tr>\n  </thead>\n  <tbody>\n    <tr>\n      <th>117466</th>\n      <td>2004-05-01</td>\n      <td>1</td>\n      <td>81</td>\n      <td>J14w</td>\n      <td>Wakakosho</td>\n      <td>1-0 (7-8)</td>\n      <td>1</td>\n      <td>hatakikomi</td>\n      <td>103</td>\n      <td>J14e</td>\n      <td>...</td>\n      <td>1975-03-04</td>\n      <td>185.0</td>\n      <td>175.0</td>\n      <td>Kasugano</td>\n      <td>Saitama</td>\n      <td>1977-06-14</td>\n      <td>191.0</td>\n      <td>168.5</td>\n      <td>29</td>\n      <td>27</td>\n    </tr>\n    <tr>\n      <th>117467</th>\n      <td>2004-05-01</td>\n      <td>5</td>\n      <td>784</td>\n      <td>J13e</td>\n      <td>Daishodai</td>\n      <td>1-4 (6-9)</td>\n      <td>1</td>\n      <td>yorikiri</td>\n      <td>103</td>\n      <td>J14e</td>\n      <td>...</td>\n      <td>1976-02-25</td>\n      <td>176.0</td>\n      <td>158.0</td>\n      <td>Kasugano</td>\n      <td>Saitama</td>\n      <td>1977-06-14</td>\n      <td>191.0</td>\n      <td>168.5</td>\n      <td>28</td>\n      <td>27</td>\n    </tr>\n    <tr>\n      <th>117468</th>\n      <td>2004-05-01</td>\n      <td>2</td>\n      <td>1227</td>\n      <td>J13w</td>\n      <td>Toyonoshima</td>\n      <td>2-0 (11-4)</td>\n      <td>1</td>\n      <td>sukuinage</td>\n      <td>103</td>\n      <td>J14e</td>\n      <td>...</td>\n      <td>1983-06-29</td>\n      <td>171.0</td>\n      <td>121.0</td>\n      <td>Kasugano</td>\n      <td>Saitama</td>\n      <td>1977-06-14</td>\n      <td>191.0</td>\n      <td>168.5</td>\n      <td>21</td>\n      <td>27</td>\n    </tr>\n    <tr>\n      <th>117469</th>\n      <td>2004-05-01</td>\n      <td>7</td>\n      <td>101</td>\n      <td>J12e</td>\n      <td>Dewanofuji</td>\n      <td>2-5 (3-12)</td>\n      <td>0</td>\n      <td>yorikiri</td>\n      <td>103</td>\n      <td>J14e</td>\n      <td>...</td>\n      <td>1976-12-04</td>\n      <td>184.0</td>\n      <td>128.0</td>\n      <td>Kasugano</td>\n      <td>Saitama</td>\n      <td>1977-06-14</td>\n      <td>191.0</td>\n      <td>168.5</td>\n      <td>28</td>\n      <td>27</td>\n    </tr>\n    <tr>\n      <th>117470</th>\n      <td>2004-05-01</td>\n      <td>6</td>\n      <td>874</td>\n      <td>J11e</td>\n      <td>Hamanishiki</td>\n      <td>4-2 (9-6)</td>\n      <td>1</td>\n      <td>hikiotoshi</td>\n      <td>103</td>\n      <td>J14e</td>\n      <td>...</td>\n      <td>1976-11-23</td>\n      <td>181.0</td>\n      <td>125.0</td>\n      <td>Kasugano</td>\n      <td>Saitama</td>\n      <td>1977-06-14</td>\n      <td>191.0</td>\n      <td>168.5</td>\n      <td>28</td>\n      <td>27</td>\n    </tr>\n  </tbody>\n</table>\n<p>5 rows × 25 columns</p>\n</div>"
     },
     "metadata": {},
     "execution_count": 33
    }
   ],
   "source": [
    "# Hakuho is the wrestler with the longest history in the top division, since May 2004\n",
    "sumo_df = sumo_df.loc[(sumo_df['tournament_date'] >= '2004-05-01')]\n",
    "sumo_df.head()"
   ]
  },
  {
   "cell_type": "code",
   "execution_count": 34,
   "metadata": {},
   "outputs": [
    {
     "output_type": "stream",
     "name": "stdout",
     "text": [
      "<class 'pandas.core.frame.DataFrame'>\nInt64Index: 96856 entries, 117466 to 214321\nData columns (total 25 columns):\n #   Column                  Non-Null Count  Dtype  \n---  ------                  --------------  -----  \n 0   tournament_date         96856 non-null  object \n 1   day                     96856 non-null  int64  \n 2   wrestler1_id            96856 non-null  int64  \n 3   wrestler1_rank          96856 non-null  object \n 4   wrestler1_name          96856 non-null  object \n 5   wrestler1_result        96856 non-null  object \n 6   wrestler1_win           96856 non-null  int64  \n 7   finishing_move          96856 non-null  object \n 8   wrestler2_id            96856 non-null  int64  \n 9   wrestler2_rank          96856 non-null  object \n 10  wrestler2_name          96856 non-null  object \n 11  wrestler2_result        96856 non-null  object \n 12  wrestler2_win           96856 non-null  int64  \n 13  wrestler_1_stable       96856 non-null  object \n 14  wrestler_1_birth_place  96856 non-null  object \n 15  wrestler_1_birth_date   96856 non-null  object \n 16  wrestler_1_height       96856 non-null  float64\n 17  wrestler_1_weight       96856 non-null  float64\n 18  wrestler_2_stable       96856 non-null  object \n 19  wrestler_2_birth_place  96856 non-null  object \n 20  wrestler_2_birth_date   96856 non-null  object \n 21  wrestler_2_height       96856 non-null  float64\n 22  wrestler_2_weight       96856 non-null  float64\n 23  wrestler_1_age          96856 non-null  int64  \n 24  wrestler_2_age          96856 non-null  int64  \ndtypes: float64(4), int64(7), object(14)\nmemory usage: 19.2+ MB\n"
     ]
    }
   ],
   "source": [
    "sumo_df.info()"
   ]
  },
  {
   "cell_type": "code",
   "execution_count": 35,
   "metadata": {},
   "outputs": [
    {
     "output_type": "execute_result",
     "data": {
      "text/plain": [
       "array(['J14w', 'J13e', 'J13w', 'J12e', 'J11e', 'J10w', 'J10e', 'J9e',\n",
       "       'J7w', 'J4w', 'J3e', 'J4e', 'J14e', 'J12w', 'J9w', 'J8w', 'J7e',\n",
       "       'J5w', 'J6w', 'J6e', 'J5e', 'J2w', 'J2e', 'J1w', 'J3w', 'J8e',\n",
       "       'J1e', 'M17e', 'M14w', 'M16e', 'M16w', 'M15w', 'M13e', 'M13w',\n",
       "       'M12e', 'M12w', 'M11w', 'M10w', 'M9w', 'M11e', 'M10e', 'M9e',\n",
       "       'M8w', 'M8e', 'M7w', 'M7e', 'M1w', 'M6w', 'M5e', 'M5w', 'M6e',\n",
       "       'M3e', 'M4w', 'M3w', 'M2w', 'K1e', 'M4e', 'M1e', 'K1w', 'O2e',\n",
       "       'S1e', 'O1w', 'O1e', 'Y1e', 'M2e', 'S1w', 'J11w', 'M15e', 'M14e',\n",
       "       'S2w', 'O2w', 'M17w', 'O3w', 'K2e', 'K2w', 'Y1w', 'O3e', 'S2e',\n",
       "       'Y2e', 'Y2w', 'M18e', 'Y1wYO'], dtype=object)"
      ]
     },
     "metadata": {},
     "execution_count": 35
    }
   ],
   "source": [
    "sumo_df[\"wrestler1_rank\"].unique()"
   ]
  },
  {
   "cell_type": "code",
   "execution_count": 36,
   "metadata": {},
   "outputs": [
    {
     "output_type": "execute_result",
     "data": {
      "text/plain": [
       "array(['J14e', 'J13e', 'J13w', 'J10w', 'J12e', 'J12w', 'J11e', 'J8w',\n",
       "       'J7e', 'J5w', 'J9w', 'J3e', 'J9e', 'J14w', 'J10e', 'J7w', 'J4e',\n",
       "       'J4w', 'J6e', 'J6w', 'J5e', 'J2e', 'J2w', 'J3w', 'J8e', 'J1e',\n",
       "       'J1w', 'M17e', 'M14w', 'M16w', 'M16e', 'M15w', 'M13e', 'M13w',\n",
       "       'M11w', 'M10w', 'M12e', 'M9w', 'M12w', 'M11e', 'M8w', 'M9e',\n",
       "       'M10e', 'M7e', 'M8e', 'M7w', 'M1w', 'M6w', 'M5e', 'M5w', 'M4e',\n",
       "       'M6e', 'M3e', 'M3w', 'M4w', 'M1e', 'M2w', 'K1e', 'O2e', 'K1w',\n",
       "       'S1w', 'M2e', 'Y1e', 'O1w', 'S1e', 'O1e', 'J11w', 'M15e', 'M14e',\n",
       "       'S2w', 'O2w', 'M17w', 'O3w', 'K2w', 'K2e', 'Y1w', 'O3e', 'S2e',\n",
       "       'Y2e', 'Y2w', 'M18e', 'Y1wYO'], dtype=object)"
      ]
     },
     "metadata": {},
     "execution_count": 36
    }
   ],
   "source": [
    "sumo_df[\"wrestler2_rank\"].unique()"
   ]
  },
  {
   "cell_type": "code",
   "execution_count": 37,
   "metadata": {},
   "outputs": [
    {
     "output_type": "execute_result",
     "data": {
      "text/plain": [
       "       tournament_date  day  wrestler1_id wrestler1_rank wrestler1_name  \\\n",
       "117856      2004-05-01    8            71           M16w     Takanowaka   \n",
       "117857      2004-05-01    4            34           M14w      Asanowaka   \n",
       "117858      2004-05-01    2          2834           M15w         Futeno   \n",
       "117859      2004-05-01    3             5           M13e     Takanonami   \n",
       "117860      2004-05-01    5            43           M13w     Kinkaiyama   \n",
       "117861      2004-05-01   10            40           M12e          Kaiho   \n",
       "117862      2004-05-01   13            96           M12w        Jumonji   \n",
       "117863      2004-05-01    6           129           M11w      Hayateumi   \n",
       "117864      2004-05-01    9            38           M10w           Toki   \n",
       "117865      2004-05-01   12            13            M9w      Tosanoumi   \n",
       "\n",
       "       wrestler1_result  wrestler1_win finishing_move  wrestler2_id  \\\n",
       "117856        4-4 (8-7)              1       yorikiri           145   \n",
       "117857       1-3 (4-11)              1    tsukiotoshi           145   \n",
       "117858        2-0 (7-8)              1       yorikiri           145   \n",
       "117859              0-3              0          fusen           145   \n",
       "117860        5-0 (8-7)              1       yorikiri           145   \n",
       "117861        6-4 (9-6)              1     yoritaoshi           145   \n",
       "117862        7-6 (8-7)              1       yorikiri           145   \n",
       "117863        3-3 (8-7)              1     oshitaoshi           145   \n",
       "117864       2-7 (4-11)              1      oshidashi           145   \n",
       "117865        5-7 (7-8)              1      oshidashi           145   \n",
       "\n",
       "       wrestler2_rank  ... wrestler_1_birth_date wrestler_1_height  \\\n",
       "117856           M17e  ...            1976-04-02             190.0   \n",
       "117857           M17e  ...            1969-12-11             176.0   \n",
       "117858           M17e  ...            1980-08-28             181.0   \n",
       "117859           M17e  ...            1971-10-27             196.0   \n",
       "117860           M17e  ...            1976-01-07             184.0   \n",
       "117861           M17e  ...            1973-04-17             178.0   \n",
       "117862           M17e  ...            1976-06-09             186.0   \n",
       "117863           M17e  ...            1975-07-05             185.0   \n",
       "117864           M17e  ...            1974-07-04             190.5   \n",
       "117865           M17e  ...            1972-02-16             187.0   \n",
       "\n",
       "        wrestler_1_weight wrestler_2_stable wrestler_2_birth_place  \\\n",
       "117856              152.0          Miyagino              Kagoshima   \n",
       "117857              140.0          Miyagino              Kagoshima   \n",
       "117858              161.0          Miyagino              Kagoshima   \n",
       "117859              163.5          Miyagino              Kagoshima   \n",
       "117860              163.0          Miyagino              Kagoshima   \n",
       "117861              125.0          Miyagino              Kagoshima   \n",
       "117862              155.5          Miyagino              Kagoshima   \n",
       "117863              118.8          Miyagino              Kagoshima   \n",
       "117864              172.0          Miyagino              Kagoshima   \n",
       "117865              156.0          Miyagino              Kagoshima   \n",
       "\n",
       "       wrestler_2_birth_date  wrestler_2_height  wrestler_2_weight  \\\n",
       "117856            1973-08-18              183.0              132.0   \n",
       "117857            1973-08-18              183.0              132.0   \n",
       "117858            1973-08-18              183.0              132.0   \n",
       "117859            1973-08-18              183.0              132.0   \n",
       "117860            1973-08-18              183.0              132.0   \n",
       "117861            1973-08-18              183.0              132.0   \n",
       "117862            1973-08-18              183.0              132.0   \n",
       "117863            1973-08-18              183.0              132.0   \n",
       "117864            1973-08-18              183.0              132.0   \n",
       "117865            1973-08-18              183.0              132.0   \n",
       "\n",
       "       wrestler_1_age wrestler_2_age  \n",
       "117856             28             31  \n",
       "117857             35             31  \n",
       "117858             24             31  \n",
       "117859             33             31  \n",
       "117860             28             31  \n",
       "117861             31             31  \n",
       "117862             28             31  \n",
       "117863             29             31  \n",
       "117864             30             31  \n",
       "117865             32             31  \n",
       "\n",
       "[10 rows x 25 columns]"
      ],
      "text/html": "<div>\n<style scoped>\n    .dataframe tbody tr th:only-of-type {\n        vertical-align: middle;\n    }\n\n    .dataframe tbody tr th {\n        vertical-align: top;\n    }\n\n    .dataframe thead th {\n        text-align: right;\n    }\n</style>\n<table border=\"1\" class=\"dataframe\">\n  <thead>\n    <tr style=\"text-align: right;\">\n      <th></th>\n      <th>tournament_date</th>\n      <th>day</th>\n      <th>wrestler1_id</th>\n      <th>wrestler1_rank</th>\n      <th>wrestler1_name</th>\n      <th>wrestler1_result</th>\n      <th>wrestler1_win</th>\n      <th>finishing_move</th>\n      <th>wrestler2_id</th>\n      <th>wrestler2_rank</th>\n      <th>...</th>\n      <th>wrestler_1_birth_date</th>\n      <th>wrestler_1_height</th>\n      <th>wrestler_1_weight</th>\n      <th>wrestler_2_stable</th>\n      <th>wrestler_2_birth_place</th>\n      <th>wrestler_2_birth_date</th>\n      <th>wrestler_2_height</th>\n      <th>wrestler_2_weight</th>\n      <th>wrestler_1_age</th>\n      <th>wrestler_2_age</th>\n    </tr>\n  </thead>\n  <tbody>\n    <tr>\n      <th>117856</th>\n      <td>2004-05-01</td>\n      <td>8</td>\n      <td>71</td>\n      <td>M16w</td>\n      <td>Takanowaka</td>\n      <td>4-4 (8-7)</td>\n      <td>1</td>\n      <td>yorikiri</td>\n      <td>145</td>\n      <td>M17e</td>\n      <td>...</td>\n      <td>1976-04-02</td>\n      <td>190.0</td>\n      <td>152.0</td>\n      <td>Miyagino</td>\n      <td>Kagoshima</td>\n      <td>1973-08-18</td>\n      <td>183.0</td>\n      <td>132.0</td>\n      <td>28</td>\n      <td>31</td>\n    </tr>\n    <tr>\n      <th>117857</th>\n      <td>2004-05-01</td>\n      <td>4</td>\n      <td>34</td>\n      <td>M14w</td>\n      <td>Asanowaka</td>\n      <td>1-3 (4-11)</td>\n      <td>1</td>\n      <td>tsukiotoshi</td>\n      <td>145</td>\n      <td>M17e</td>\n      <td>...</td>\n      <td>1969-12-11</td>\n      <td>176.0</td>\n      <td>140.0</td>\n      <td>Miyagino</td>\n      <td>Kagoshima</td>\n      <td>1973-08-18</td>\n      <td>183.0</td>\n      <td>132.0</td>\n      <td>35</td>\n      <td>31</td>\n    </tr>\n    <tr>\n      <th>117858</th>\n      <td>2004-05-01</td>\n      <td>2</td>\n      <td>2834</td>\n      <td>M15w</td>\n      <td>Futeno</td>\n      <td>2-0 (7-8)</td>\n      <td>1</td>\n      <td>yorikiri</td>\n      <td>145</td>\n      <td>M17e</td>\n      <td>...</td>\n      <td>1980-08-28</td>\n      <td>181.0</td>\n      <td>161.0</td>\n      <td>Miyagino</td>\n      <td>Kagoshima</td>\n      <td>1973-08-18</td>\n      <td>183.0</td>\n      <td>132.0</td>\n      <td>24</td>\n      <td>31</td>\n    </tr>\n    <tr>\n      <th>117859</th>\n      <td>2004-05-01</td>\n      <td>3</td>\n      <td>5</td>\n      <td>M13e</td>\n      <td>Takanonami</td>\n      <td>0-3</td>\n      <td>0</td>\n      <td>fusen</td>\n      <td>145</td>\n      <td>M17e</td>\n      <td>...</td>\n      <td>1971-10-27</td>\n      <td>196.0</td>\n      <td>163.5</td>\n      <td>Miyagino</td>\n      <td>Kagoshima</td>\n      <td>1973-08-18</td>\n      <td>183.0</td>\n      <td>132.0</td>\n      <td>33</td>\n      <td>31</td>\n    </tr>\n    <tr>\n      <th>117860</th>\n      <td>2004-05-01</td>\n      <td>5</td>\n      <td>43</td>\n      <td>M13w</td>\n      <td>Kinkaiyama</td>\n      <td>5-0 (8-7)</td>\n      <td>1</td>\n      <td>yorikiri</td>\n      <td>145</td>\n      <td>M17e</td>\n      <td>...</td>\n      <td>1976-01-07</td>\n      <td>184.0</td>\n      <td>163.0</td>\n      <td>Miyagino</td>\n      <td>Kagoshima</td>\n      <td>1973-08-18</td>\n      <td>183.0</td>\n      <td>132.0</td>\n      <td>28</td>\n      <td>31</td>\n    </tr>\n    <tr>\n      <th>117861</th>\n      <td>2004-05-01</td>\n      <td>10</td>\n      <td>40</td>\n      <td>M12e</td>\n      <td>Kaiho</td>\n      <td>6-4 (9-6)</td>\n      <td>1</td>\n      <td>yoritaoshi</td>\n      <td>145</td>\n      <td>M17e</td>\n      <td>...</td>\n      <td>1973-04-17</td>\n      <td>178.0</td>\n      <td>125.0</td>\n      <td>Miyagino</td>\n      <td>Kagoshima</td>\n      <td>1973-08-18</td>\n      <td>183.0</td>\n      <td>132.0</td>\n      <td>31</td>\n      <td>31</td>\n    </tr>\n    <tr>\n      <th>117862</th>\n      <td>2004-05-01</td>\n      <td>13</td>\n      <td>96</td>\n      <td>M12w</td>\n      <td>Jumonji</td>\n      <td>7-6 (8-7)</td>\n      <td>1</td>\n      <td>yorikiri</td>\n      <td>145</td>\n      <td>M17e</td>\n      <td>...</td>\n      <td>1976-06-09</td>\n      <td>186.0</td>\n      <td>155.5</td>\n      <td>Miyagino</td>\n      <td>Kagoshima</td>\n      <td>1973-08-18</td>\n      <td>183.0</td>\n      <td>132.0</td>\n      <td>28</td>\n      <td>31</td>\n    </tr>\n    <tr>\n      <th>117863</th>\n      <td>2004-05-01</td>\n      <td>6</td>\n      <td>129</td>\n      <td>M11w</td>\n      <td>Hayateumi</td>\n      <td>3-3 (8-7)</td>\n      <td>1</td>\n      <td>oshitaoshi</td>\n      <td>145</td>\n      <td>M17e</td>\n      <td>...</td>\n      <td>1975-07-05</td>\n      <td>185.0</td>\n      <td>118.8</td>\n      <td>Miyagino</td>\n      <td>Kagoshima</td>\n      <td>1973-08-18</td>\n      <td>183.0</td>\n      <td>132.0</td>\n      <td>29</td>\n      <td>31</td>\n    </tr>\n    <tr>\n      <th>117864</th>\n      <td>2004-05-01</td>\n      <td>9</td>\n      <td>38</td>\n      <td>M10w</td>\n      <td>Toki</td>\n      <td>2-7 (4-11)</td>\n      <td>1</td>\n      <td>oshidashi</td>\n      <td>145</td>\n      <td>M17e</td>\n      <td>...</td>\n      <td>1974-07-04</td>\n      <td>190.5</td>\n      <td>172.0</td>\n      <td>Miyagino</td>\n      <td>Kagoshima</td>\n      <td>1973-08-18</td>\n      <td>183.0</td>\n      <td>132.0</td>\n      <td>30</td>\n      <td>31</td>\n    </tr>\n    <tr>\n      <th>117865</th>\n      <td>2004-05-01</td>\n      <td>12</td>\n      <td>13</td>\n      <td>M9w</td>\n      <td>Tosanoumi</td>\n      <td>5-7 (7-8)</td>\n      <td>1</td>\n      <td>oshidashi</td>\n      <td>145</td>\n      <td>M17e</td>\n      <td>...</td>\n      <td>1972-02-16</td>\n      <td>187.0</td>\n      <td>156.0</td>\n      <td>Miyagino</td>\n      <td>Kagoshima</td>\n      <td>1973-08-18</td>\n      <td>183.0</td>\n      <td>132.0</td>\n      <td>32</td>\n      <td>31</td>\n    </tr>\n  </tbody>\n</table>\n<p>10 rows × 25 columns</p>\n</div>"
     },
     "metadata": {},
     "execution_count": 37
    }
   ],
   "source": [
    "# Filtering out the Juryos\n",
    "juryo_ranks = ['J14e', 'J14w', 'J13e', 'J13w', 'J12e', 'J12w', 'J11e', 'J11w','J10e', 'J10w', 'J9e', 'J9w', 'J8e', 'J8w', 'J7e', 'J7w', 'J6e', 'J6w', 'J5e','J5w', 'J4e', 'J4w', 'J3e', 'J3w', 'J2e', 'J2w', 'J1e', 'J1w']\n",
    "sumo_df = sumo_df.loc[~((sumo_df['wrestler1_rank'].isin(juryo_ranks))|(sumo_df['wrestler2_rank'].isin(juryo_ranks))),:]\n",
    "sumo_df.head(10)"
   ]
  },
  {
   "cell_type": "code",
   "execution_count": null,
   "metadata": {},
   "outputs": [],
   "source": []
  },
  {
   "cell_type": "code",
   "execution_count": 38,
   "metadata": {},
   "outputs": [
    {
     "output_type": "stream",
     "name": "stdout",
     "text": [
      "<class 'pandas.core.frame.DataFrame'>\nInt64Index: 59240 entries, 117856 to 214321\nData columns (total 25 columns):\n #   Column                  Non-Null Count  Dtype  \n---  ------                  --------------  -----  \n 0   tournament_date         59240 non-null  object \n 1   day                     59240 non-null  int64  \n 2   wrestler1_id            59240 non-null  int64  \n 3   wrestler1_rank          59240 non-null  object \n 4   wrestler1_name          59240 non-null  object \n 5   wrestler1_result        59240 non-null  object \n 6   wrestler1_win           59240 non-null  int64  \n 7   finishing_move          59240 non-null  object \n 8   wrestler2_id            59240 non-null  int64  \n 9   wrestler2_rank          59240 non-null  object \n 10  wrestler2_name          59240 non-null  object \n 11  wrestler2_result        59240 non-null  object \n 12  wrestler2_win           59240 non-null  int64  \n 13  wrestler_1_stable       59240 non-null  object \n 14  wrestler_1_birth_place  59240 non-null  object \n 15  wrestler_1_birth_date   59240 non-null  object \n 16  wrestler_1_height       59240 non-null  float64\n 17  wrestler_1_weight       59240 non-null  float64\n 18  wrestler_2_stable       59240 non-null  object \n 19  wrestler_2_birth_place  59240 non-null  object \n 20  wrestler_2_birth_date   59240 non-null  object \n 21  wrestler_2_height       59240 non-null  float64\n 22  wrestler_2_weight       59240 non-null  float64\n 23  wrestler_1_age          59240 non-null  int64  \n 24  wrestler_2_age          59240 non-null  int64  \ndtypes: float64(4), int64(7), object(14)\nmemory usage: 11.8+ MB\n"
     ]
    }
   ],
   "source": [
    "sumo_df.info()"
   ]
  },
  {
   "cell_type": "code",
   "execution_count": 39,
   "metadata": {},
   "outputs": [
    {
     "output_type": "execute_result",
     "data": {
      "text/plain": [
       "array(['M16w', 'M14w', 'M15w', 'M13e', 'M13w', 'M12e', 'M12w', 'M11w',\n",
       "       'M10w', 'M9w', 'M17e', 'M16e', 'M11e', 'M10e', 'M9e', 'M8w', 'M8e',\n",
       "       'M7w', 'M7e', 'M1w', 'M6w', 'M5e', 'M5w', 'M6e', 'M3e', 'M4w',\n",
       "       'M3w', 'M2w', 'K1e', 'M4e', 'M1e', 'K1w', 'O2e', 'S1e', 'O1w',\n",
       "       'O1e', 'Y1e', 'M2e', 'S1w', 'M15e', 'M14e', 'S2w', 'O2w', 'M17w',\n",
       "       'O3w', 'K2e', 'K2w', 'Y1w', 'O3e', 'S2e', 'Y2e', 'Y2w', 'M18e',\n",
       "       'Y1wYO'], dtype=object)"
      ]
     },
     "metadata": {},
     "execution_count": 39
    }
   ],
   "source": [
    "# Verifying all juryo ranks have been removed\n",
    "sumo_df[\"wrestler1_rank\"].unique()"
   ]
  },
  {
   "cell_type": "code",
   "execution_count": 40,
   "metadata": {},
   "outputs": [
    {
     "output_type": "execute_result",
     "data": {
      "text/plain": [
       "array(['M17e', 'M14w', 'M16w', 'M16e', 'M15w', 'M13e', 'M13w', 'M11w',\n",
       "       'M10w', 'M12e', 'M9w', 'M12w', 'M11e', 'M8w', 'M9e', 'M10e', 'M7e',\n",
       "       'M8e', 'M7w', 'M1w', 'M6w', 'M5e', 'M5w', 'M4e', 'M6e', 'M3e',\n",
       "       'M3w', 'M4w', 'M1e', 'M2w', 'K1e', 'O2e', 'K1w', 'S1w', 'M2e',\n",
       "       'Y1e', 'O1w', 'S1e', 'O1e', 'M15e', 'M14e', 'S2w', 'O2w', 'M17w',\n",
       "       'O3w', 'K2w', 'K2e', 'Y1w', 'O3e', 'S2e', 'Y2e', 'Y2w', 'M18e',\n",
       "       'Y1wYO'], dtype=object)"
      ]
     },
     "metadata": {},
     "execution_count": 40
    }
   ],
   "source": [
    "sumo_df[\"wrestler2_rank\"].unique()"
   ]
  },
  {
   "cell_type": "code",
   "execution_count": 45,
   "metadata": {},
   "outputs": [],
   "source": [
    "# Grouped Lists of Rankings\n",
    "Yokozuna = ['Y1wYO','Y1e','Y1w','Y2e','Y2w']\n",
    "Ozeki = ['O1e', 'O1w', 'O2e','O2w','O3e','O3w']\n",
    "Sekiwake = ['S1e','S1w','S2e','S2w']\n",
    "Komusubi = ['K1e','K1w','K2w', 'K2e']\n",
    "M1 = ['M1e','M1w']\n",
    "M2 = ['M2e','M2w']\n",
    "M3 = ['M3e','M3w']\n",
    "M4 = ['M4e','M4w']\n",
    "M5 = ['M5e','M5w']\n",
    "M6 = ['M6e','M6w']\n",
    "M7 = ['M7e','M7w']\n",
    "M8 = ['M8e','M8w']\n",
    "M9 = ['M9e','M9w']\n",
    "M10 = ['M10e','M10w']\n",
    "M11 = ['M11e','M11w']\n",
    "M12 = ['M12e','M12w']\n",
    "M13 = ['M13e','M13w']\n",
    "M14 = ['M14e','M14w']\n",
    "M15 = ['M15e','M15w']\n",
    "M16 = ['M16e','M16w']\n",
    "M17 = ['M17e','M17w']\n",
    "M18 = ['M18e','M18w']\n"
   ]
  },
  {
   "cell_type": "code",
   "execution_count": 44,
   "metadata": {},
   "outputs": [
    {
     "output_type": "execute_result",
     "data": {
      "text/plain": [
       "       tournament_date  day  wrestler1_id wrestler1_rank wrestler1_name  \\\n",
       "213989      2021-05-01   15         12024            M9e     Shimanoumi   \n",
       "214011      2021-05-01   15         11868           M10w   Terutsuyoshi   \n",
       "214016      2021-05-01   15         11918           M17e           Akua   \n",
       "213901      2021-05-01   15         12231            M4e     Kiribayama   \n",
       "213919      2021-05-01   15          6753           M15e         Kaisei   \n",
       "213933      2021-05-01   15          7240           M16w      Chiyomaru   \n",
       "213905      2021-05-01   15         12051           M16e        Ishiura   \n",
       "213958      2021-05-01   15         11728            M7w     Takarafuji   \n",
       "214213      2021-05-01   16         12191            O1w     Takakeisho   \n",
       "214194      2021-05-01   16         11927            O2w     Terunofuji   \n",
       "\n",
       "       wrestler1_result  wrestler1_win finishing_move  wrestler2_id  \\\n",
       "213989              7-8              0       yorikiri         11785   \n",
       "214011              7-8              1    shitatenage         11786   \n",
       "214016             5-10              1       kakenage         12026   \n",
       "213901              6-9              1       yorikiri         12113   \n",
       "213919              9-6              1       yorikiri          6599   \n",
       "213933              8-7              0      oshidashi         11728   \n",
       "213905              7-8              1  shitatehineri         12270   \n",
       "213958              7-8              1      oshidashi          7240   \n",
       "214213           (12-3)              0     hatakikomi         11927   \n",
       "214194           (12-3)              1     hatakikomi         12191   \n",
       "\n",
       "       wrestler2_rank  ... wrestler_1_birth_date wrestler_1_height  \\\n",
       "213989           M11w  ...            1989-07-11             179.0   \n",
       "214011            M3e  ...            1995-01-17             169.0   \n",
       "214016            M6e  ...            1990-11-06             184.0   \n",
       "213901            M8e  ...            1996-04-24             187.0   \n",
       "213919            M7e  ...            1986-12-18             195.0   \n",
       "213933            M7w  ...            1991-04-17             178.0   \n",
       "213905           M11e  ...            1990-01-10             174.0   \n",
       "213958           M16w  ...            1987-02-18             185.0   \n",
       "214213            O2w  ...            1996-08-05             175.0   \n",
       "214194            O1w  ...            1991-11-29             191.0   \n",
       "\n",
       "        wrestler_1_weight wrestler_2_stable wrestler_2_birth_place  \\\n",
       "213989              160.0           Kokonoe               Mongolia   \n",
       "214011              114.0          Kasugano               Bulgaria   \n",
       "214016              168.0              Kise                  Tokyo   \n",
       "213901              138.0          Oitekaze                  Tokyo   \n",
       "213919              192.0          Kasugano                Georgia   \n",
       "213933              189.0         Isegahama                 Aomori   \n",
       "213905              110.0        Sadogatake                  Chiba   \n",
       "213958              166.0           Kokonoe              Kagoshima   \n",
       "214213              183.0         Isegahama               Mongolia   \n",
       "214194              173.0        Tokiwayama                  Hyogo   \n",
       "\n",
       "       wrestler_2_birth_date  wrestler_2_height  wrestler_2_weight  \\\n",
       "213989            1991-07-20              184.0              137.0   \n",
       "214011            1986-06-19              191.0              188.0   \n",
       "214016            1989-06-11              185.0              156.0   \n",
       "213901            1991-07-27              182.0              191.0   \n",
       "213919            1987-10-13              192.0              176.0   \n",
       "213933            1987-02-18              185.0              166.0   \n",
       "213905            1997-11-19              188.0              166.0   \n",
       "213958            1991-04-17              178.0              189.0   \n",
       "214213            1991-11-29              191.0              173.0   \n",
       "214194            1996-08-05              175.0              183.0   \n",
       "\n",
       "       wrestler_1_age wrestler_2_age  \n",
       "213989             32             30  \n",
       "214011             26             35  \n",
       "214016             31             32  \n",
       "213901             25             30  \n",
       "213919             35             34  \n",
       "213933             30             34  \n",
       "213905             31             24  \n",
       "213958             34             30  \n",
       "214213             25             30  \n",
       "214194             30             25  \n",
       "\n",
       "[10 rows x 25 columns]"
      ],
      "text/html": "<div>\n<style scoped>\n    .dataframe tbody tr th:only-of-type {\n        vertical-align: middle;\n    }\n\n    .dataframe tbody tr th {\n        vertical-align: top;\n    }\n\n    .dataframe thead th {\n        text-align: right;\n    }\n</style>\n<table border=\"1\" class=\"dataframe\">\n  <thead>\n    <tr style=\"text-align: right;\">\n      <th></th>\n      <th>tournament_date</th>\n      <th>day</th>\n      <th>wrestler1_id</th>\n      <th>wrestler1_rank</th>\n      <th>wrestler1_name</th>\n      <th>wrestler1_result</th>\n      <th>wrestler1_win</th>\n      <th>finishing_move</th>\n      <th>wrestler2_id</th>\n      <th>wrestler2_rank</th>\n      <th>...</th>\n      <th>wrestler_1_birth_date</th>\n      <th>wrestler_1_height</th>\n      <th>wrestler_1_weight</th>\n      <th>wrestler_2_stable</th>\n      <th>wrestler_2_birth_place</th>\n      <th>wrestler_2_birth_date</th>\n      <th>wrestler_2_height</th>\n      <th>wrestler_2_weight</th>\n      <th>wrestler_1_age</th>\n      <th>wrestler_2_age</th>\n    </tr>\n  </thead>\n  <tbody>\n    <tr>\n      <th>213989</th>\n      <td>2021-05-01</td>\n      <td>15</td>\n      <td>12024</td>\n      <td>M9e</td>\n      <td>Shimanoumi</td>\n      <td>7-8</td>\n      <td>0</td>\n      <td>yorikiri</td>\n      <td>11785</td>\n      <td>M11w</td>\n      <td>...</td>\n      <td>1989-07-11</td>\n      <td>179.0</td>\n      <td>160.0</td>\n      <td>Kokonoe</td>\n      <td>Mongolia</td>\n      <td>1991-07-20</td>\n      <td>184.0</td>\n      <td>137.0</td>\n      <td>32</td>\n      <td>30</td>\n    </tr>\n    <tr>\n      <th>214011</th>\n      <td>2021-05-01</td>\n      <td>15</td>\n      <td>11868</td>\n      <td>M10w</td>\n      <td>Terutsuyoshi</td>\n      <td>7-8</td>\n      <td>1</td>\n      <td>shitatenage</td>\n      <td>11786</td>\n      <td>M3e</td>\n      <td>...</td>\n      <td>1995-01-17</td>\n      <td>169.0</td>\n      <td>114.0</td>\n      <td>Kasugano</td>\n      <td>Bulgaria</td>\n      <td>1986-06-19</td>\n      <td>191.0</td>\n      <td>188.0</td>\n      <td>26</td>\n      <td>35</td>\n    </tr>\n    <tr>\n      <th>214016</th>\n      <td>2021-05-01</td>\n      <td>15</td>\n      <td>11918</td>\n      <td>M17e</td>\n      <td>Akua</td>\n      <td>5-10</td>\n      <td>1</td>\n      <td>kakenage</td>\n      <td>12026</td>\n      <td>M6e</td>\n      <td>...</td>\n      <td>1990-11-06</td>\n      <td>184.0</td>\n      <td>168.0</td>\n      <td>Kise</td>\n      <td>Tokyo</td>\n      <td>1989-06-11</td>\n      <td>185.0</td>\n      <td>156.0</td>\n      <td>31</td>\n      <td>32</td>\n    </tr>\n    <tr>\n      <th>213901</th>\n      <td>2021-05-01</td>\n      <td>15</td>\n      <td>12231</td>\n      <td>M4e</td>\n      <td>Kiribayama</td>\n      <td>6-9</td>\n      <td>1</td>\n      <td>yorikiri</td>\n      <td>12113</td>\n      <td>M8e</td>\n      <td>...</td>\n      <td>1996-04-24</td>\n      <td>187.0</td>\n      <td>138.0</td>\n      <td>Oitekaze</td>\n      <td>Tokyo</td>\n      <td>1991-07-27</td>\n      <td>182.0</td>\n      <td>191.0</td>\n      <td>25</td>\n      <td>30</td>\n    </tr>\n    <tr>\n      <th>213919</th>\n      <td>2021-05-01</td>\n      <td>15</td>\n      <td>6753</td>\n      <td>M15e</td>\n      <td>Kaisei</td>\n      <td>9-6</td>\n      <td>1</td>\n      <td>yorikiri</td>\n      <td>6599</td>\n      <td>M7e</td>\n      <td>...</td>\n      <td>1986-12-18</td>\n      <td>195.0</td>\n      <td>192.0</td>\n      <td>Kasugano</td>\n      <td>Georgia</td>\n      <td>1987-10-13</td>\n      <td>192.0</td>\n      <td>176.0</td>\n      <td>35</td>\n      <td>34</td>\n    </tr>\n    <tr>\n      <th>213933</th>\n      <td>2021-05-01</td>\n      <td>15</td>\n      <td>7240</td>\n      <td>M16w</td>\n      <td>Chiyomaru</td>\n      <td>8-7</td>\n      <td>0</td>\n      <td>oshidashi</td>\n      <td>11728</td>\n      <td>M7w</td>\n      <td>...</td>\n      <td>1991-04-17</td>\n      <td>178.0</td>\n      <td>189.0</td>\n      <td>Isegahama</td>\n      <td>Aomori</td>\n      <td>1987-02-18</td>\n      <td>185.0</td>\n      <td>166.0</td>\n      <td>30</td>\n      <td>34</td>\n    </tr>\n    <tr>\n      <th>213905</th>\n      <td>2021-05-01</td>\n      <td>15</td>\n      <td>12051</td>\n      <td>M16e</td>\n      <td>Ishiura</td>\n      <td>7-8</td>\n      <td>1</td>\n      <td>shitatehineri</td>\n      <td>12270</td>\n      <td>M11e</td>\n      <td>...</td>\n      <td>1990-01-10</td>\n      <td>174.0</td>\n      <td>110.0</td>\n      <td>Sadogatake</td>\n      <td>Chiba</td>\n      <td>1997-11-19</td>\n      <td>188.0</td>\n      <td>166.0</td>\n      <td>31</td>\n      <td>24</td>\n    </tr>\n    <tr>\n      <th>213958</th>\n      <td>2021-05-01</td>\n      <td>15</td>\n      <td>11728</td>\n      <td>M7w</td>\n      <td>Takarafuji</td>\n      <td>7-8</td>\n      <td>1</td>\n      <td>oshidashi</td>\n      <td>7240</td>\n      <td>M16w</td>\n      <td>...</td>\n      <td>1987-02-18</td>\n      <td>185.0</td>\n      <td>166.0</td>\n      <td>Kokonoe</td>\n      <td>Kagoshima</td>\n      <td>1991-04-17</td>\n      <td>178.0</td>\n      <td>189.0</td>\n      <td>34</td>\n      <td>30</td>\n    </tr>\n    <tr>\n      <th>214213</th>\n      <td>2021-05-01</td>\n      <td>16</td>\n      <td>12191</td>\n      <td>O1w</td>\n      <td>Takakeisho</td>\n      <td>(12-3)</td>\n      <td>0</td>\n      <td>hatakikomi</td>\n      <td>11927</td>\n      <td>O2w</td>\n      <td>...</td>\n      <td>1996-08-05</td>\n      <td>175.0</td>\n      <td>183.0</td>\n      <td>Isegahama</td>\n      <td>Mongolia</td>\n      <td>1991-11-29</td>\n      <td>191.0</td>\n      <td>173.0</td>\n      <td>25</td>\n      <td>30</td>\n    </tr>\n    <tr>\n      <th>214194</th>\n      <td>2021-05-01</td>\n      <td>16</td>\n      <td>11927</td>\n      <td>O2w</td>\n      <td>Terunofuji</td>\n      <td>(12-3)</td>\n      <td>1</td>\n      <td>hatakikomi</td>\n      <td>12191</td>\n      <td>O1w</td>\n      <td>...</td>\n      <td>1991-11-29</td>\n      <td>191.0</td>\n      <td>173.0</td>\n      <td>Tokiwayama</td>\n      <td>Hyogo</td>\n      <td>1996-08-05</td>\n      <td>175.0</td>\n      <td>183.0</td>\n      <td>30</td>\n      <td>25</td>\n    </tr>\n  </tbody>\n</table>\n<p>10 rows × 25 columns</p>\n</div>"
     },
     "metadata": {},
     "execution_count": 44
    }
   ],
   "source": [
    "# sorting chronologically\n",
    "sumo_df = sumo_df.sort_values(by=['tournament_date','day'], ascending=True)\n",
    "#sumo_df['tourament_date'] = sumo_df['tournament_date'].sort_values(by='day', ascending=True)\n",
    "sumo_df.tail(10)"
   ]
  },
  {
   "cell_type": "code",
   "execution_count": 48,
   "metadata": {},
   "outputs": [],
   "source": [
    "def map_rank(current_rank):\n",
    "    num_rank = None\n",
    "    if current_rank in Yokozuna:\n",
    "        num_rank = 1\n",
    "    if current_rank in Ozeki:\n",
    "        num_rank = 2\n",
    "    if current_rank in Sekiwake:\n",
    "        num_rank = 3\n",
    "    if current_rank in Komusubi:\n",
    "        num_rank = 4\n",
    "    if current_rank in M1:\n",
    "        num_rank = 5\n",
    "    if current_rank in M2:\n",
    "        num_rank = 6\n",
    "    if current_rank in M3:\n",
    "        num_rank = 7\n",
    "    if current_rank in M4:\n",
    "        num_rank = 8\n",
    "    if current_rank in M5:\n",
    "        num_rank = 9\n",
    "    if current_rank in M6:\n",
    "        num_rank = 10\n",
    "    if current_rank in M7:\n",
    "        num_rank = 11\n",
    "    if current_rank in M8:\n",
    "        num_rank = 12\n",
    "    if current_rank in M9:\n",
    "        num_rank = 13\n",
    "    if current_rank in M10:\n",
    "        num_rank = 14\n",
    "    if current_rank in M11:\n",
    "        num_rank = 15\n",
    "    if current_rank in M12:\n",
    "        num_rank = 16\n",
    "    if current_rank in M13:\n",
    "        num_rank = 17\n",
    "    if current_rank in M14:\n",
    "        num_rank = 18\n",
    "    if current_rank in M15:\n",
    "        num_rank = 19\n",
    "    if current_rank in M16:\n",
    "        num_rank = 20\n",
    "    if current_rank in M17:\n",
    "        num_rank = 21\n",
    "    if current_rank in M18:\n",
    "        num_rank = 22\n",
    "    return num_rank"
   ]
  },
  {
   "cell_type": "code",
   "execution_count": 58,
   "metadata": {},
   "outputs": [],
   "source": [
    "def calculate_h2h_wp(later_date, sumo_df, id_1):\n",
    "    weight_list = []\n",
    "    numerator1 = []\n",
    "    numerator2 = []\n",
    "\n",
    "    # weighted sum calculation: (w1*x1 + w2*x2 + ... + wn*xn)/(w1 + ... + wn)\n",
    "\n",
    "    for i, row in sumo_df.iterrows():\n",
    "\n",
    "        previous_date = row['tournament_date']\n",
    "        weight = discount_weight(later_date, previous_date, discount_factor=0.8)\n",
    "        weight_list.append(weight)\n",
    "        if row['wrestler1_id'] == id_1:  # if ID1 matches sumo 1, proceed normally\n",
    "            if (row['wrestler1_win'] == 1) and (row['wrestler2_win'] == 0):  # win by sumo 1, loss by sumo 2\n",
    "                numerator1.append(weight)  # add weight multiplied by 1 (win)\n",
    "                numerator2.append(0.)       # add weight multiplied by 0 (loss)\n",
    "            elif (row['wrestler1_win'] == 0) and (row['wrestler2_win'] == 1):  # win by sumo 2, loss by sumo 1\n",
    "                numerator1.append(0.)\n",
    "                numerator2.append(weight)\n",
    "\n",
    "            elif row['wrestler2_id'] == id_2:  # if ID2 matches sumo 1, proceed with things switched\n",
    "                if (row['wrestler1_win'] == 0) and (row['wrestler2_win'] == 1):  # win by sumo 2, loss by sumo 1\n",
    "                    numerator1.append(0.)  # add weight multiplied by 1 (win)\n",
    "                    numerator2.append(weight)       # add weight multiplied by 0 (loss)\n",
    "                elif (row['wrestler1_win'] == 1) and (row['wrestler2_win'] == 0):  # win by sumo 1, loss by sumo 2\n",
    "                    numerator1.append(weight)\n",
    "                    numerator2.append(0.)\n",
    "\n",
    "        else:\n",
    "            print(\"Not matching proper criteria!!!\") \n",
    "\n",
    "        h2h_wp1 = float(sum(numerator1))/float(sum(weight_list))\n",
    "        h2h_wp2 = float(sum(numerator2))/float(sum(weight_list))\n",
    "\n",
    "        return h2h_wp1, h2h_wp2"
   ]
  },
  {
   "cell_type": "code",
   "execution_count": 62,
   "metadata": {},
   "outputs": [],
   "source": [
    "# Looping over sumo_df\n",
    "cp1 = 0\n",
    "cp2 = len(sumo_df.index)\n",
    "\n",
    "# List for storing all generated dictionaries\n",
    "compiled_dicts = []\n",
    "\n",
    "counter = 1"
   ]
  },
  {
   "cell_type": "code",
   "execution_count": 65,
   "metadata": {},
   "outputs": [
    {
     "output_type": "error",
     "ename": "NameError",
     "evalue": "name 'height_diff' is not defined",
     "traceback": [
      "\u001b[0;31m---------------------------------------------------------------------------\u001b[0m",
      "\u001b[0;31mNameError\u001b[0m                                 Traceback (most recent call last)",
      "\u001b[0;32m<ipython-input-65-25f451e3f00e>\u001b[0m in \u001b[0;36m<module>\u001b[0;34m\u001b[0m\n\u001b[1;32m     26\u001b[0m             \u001b[0mnum_rank_2\u001b[0m \u001b[0;34m=\u001b[0m \u001b[0mmap_rank\u001b[0m\u001b[0;34m(\u001b[0m\u001b[0mrank_2\u001b[0m\u001b[0;34m)\u001b[0m\u001b[0;34m\u001b[0m\u001b[0;34m\u001b[0m\u001b[0m\n\u001b[1;32m     27\u001b[0m             \u001b[0mrank_diff\u001b[0m \u001b[0;34m=\u001b[0m \u001b[0mnum_rank_1\u001b[0m \u001b[0;34m-\u001b[0m \u001b[0mnum_rank_2\u001b[0m  \u001b[0;31m# difference in rank\u001b[0m\u001b[0;34m\u001b[0m\u001b[0;34m\u001b[0m\u001b[0m\n\u001b[0;32m---> 28\u001b[0;31m     \u001b[0mfeature_dict\u001b[0m \u001b[0;34m=\u001b[0m \u001b[0;34m{\u001b[0m\u001b[0;34m'height_diff'\u001b[0m\u001b[0;34m:\u001b[0m \u001b[0mheight_diff\u001b[0m\u001b[0;34m,\u001b[0m \u001b[0;34m'weight_diff'\u001b[0m\u001b[0;34m:\u001b[0m \u001b[0mweight_diff\u001b[0m\u001b[0;34m,\u001b[0m \u001b[0;34m'age_diff'\u001b[0m\u001b[0;34m:\u001b[0m \u001b[0mage_diff\u001b[0m\u001b[0;34m,\u001b[0m \u001b[0;34m'rank_diff'\u001b[0m\u001b[0;34m:\u001b[0m \u001b[0mrank_diff\u001b[0m\u001b[0;34m,\u001b[0m \u001b[0;34m'id_1'\u001b[0m\u001b[0;34m:\u001b[0m \u001b[0mid_1\u001b[0m\u001b[0;34m,\u001b[0m \u001b[0;34m'id_2'\u001b[0m\u001b[0;34m:\u001b[0m \u001b[0mid_2\u001b[0m\u001b[0;34m,\u001b[0m \u001b[0;34m'label'\u001b[0m\u001b[0;34m:\u001b[0m \u001b[0;36m0\u001b[0m\u001b[0;34m}\u001b[0m\u001b[0;34m\u001b[0m\u001b[0;34m\u001b[0m\u001b[0m\n\u001b[0m\u001b[1;32m     29\u001b[0m     \u001b[0mfeature_df\u001b[0m \u001b[0;34m=\u001b[0m \u001b[0mpd\u001b[0m\u001b[0;34m.\u001b[0m\u001b[0mDataFrame\u001b[0m\u001b[0;34m(\u001b[0m\u001b[0mfeature_dict\u001b[0m\u001b[0;34m)\u001b[0m\u001b[0;34m\u001b[0m\u001b[0;34m\u001b[0m\u001b[0m\n\u001b[1;32m     30\u001b[0m \u001b[0mfeature_df\u001b[0m\u001b[0;34m.\u001b[0m\u001b[0mhead\u001b[0m\u001b[0;34m(\u001b[0m\u001b[0;34m)\u001b[0m\u001b[0;34m\u001b[0m\u001b[0;34m\u001b[0m\u001b[0m\n",
      "\u001b[0;31mNameError\u001b[0m: name 'height_diff' is not defined"
     ]
    }
   ],
   "source": [
    "# start = time.time()\n",
    "# for i, row in sumo_df.iterrows():\n",
    "#     # Print a progress counter\n",
    "#     if counter % 1000 ==0:\n",
    "#         print(\"Counter: %4d\" % counter)\n",
    "#     if (i >= cp1) & (i <= cp2):\n",
    "#         id_1 = row[\"wrestler1_id\"]\n",
    "#         id_2 = row[\"wrestler2_id\"]\n",
    "#         wrestler_1 = sumo_df[sumo_df['wrestler1_id'] == id_1]\n",
    "#         wrestler_2 = sumo_df[sumo_df['wrestler2_id'] == id_2]\n",
    "#         if (not wrestler_1.empty) and (not wrestler_2.empty):\n",
    "#             print(\"# --- Generating Features: Row: %2d\" % i + \" --- #\")\n",
    "#             date = row['tournament_date']['day']\n",
    "#             rank_1 = row['wrestler1_rank']\n",
    "#             rank_2 = row['wrestler2_rank']\n",
    "#             outcome_1 = row['wrestler1_win']\n",
    "#             outcome_2 = row['wrestler2_win']\n",
    "\n",
    "#             # Generating feature values \n",
    "#             height_diff = wrestler_1['wrestler_1_height'] - wrestler_2['wrestler_2_height']\n",
    "#             weight_diff = wrestler_1['wrestler_1_weight'] - wrestler_2['wrestler_2_weight']\n",
    "#             age_1 = wrestler_1['wrestler_1_age']\n",
    "#             age_2 = wrestler_2['wrestler_2_age']\n",
    "#             age_diff = age_1 - age_2\n",
    "#             num_rank_1 = map_rank(rank_1)\n",
    "#             num_rank_2 = map_rank(rank_2)\n",
    "#             rank_diff = num_rank_1 - num_rank_2  # difference in rank\n",
    "#     feature_dict = {'height_diff': height_diff, 'weight_diff': weight_diff, 'age_diff': age_diff, 'rank_diff': rank_diff, 'id_1': id_1, 'id_2': id_2, 'label': 0}\n",
    "#     feature_df = pd.DataFrame(feature_dict)\n",
    "# feature_df.head()"
   ]
  },
  {
   "cell_type": "code",
   "execution_count": null,
   "metadata": {},
   "outputs": [],
   "source": []
  }
 ]
}