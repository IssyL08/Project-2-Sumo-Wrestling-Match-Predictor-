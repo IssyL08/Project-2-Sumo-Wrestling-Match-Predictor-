{
 "metadata": {
  "language_info": {
   "codemirror_mode": {
    "name": "ipython",
    "version": 3
   },
   "file_extension": ".py",
   "mimetype": "text/x-python",
   "name": "python",
   "nbconvert_exporter": "python",
   "pygments_lexer": "ipython3",
   "version": "3.8.5"
  },
  "orig_nbformat": 4,
  "kernelspec": {
   "name": "python3",
   "display_name": "Python 3.8.5 64-bit ('base': conda)"
  },
  "interpreter": {
   "hash": "dca0ade3e726a953b501b15e8e990130d2b7799f14cfd9f4271676035ebe5511"
  }
 },
 "nbformat": 4,
 "nbformat_minor": 2,
 "cells": [
  {
   "source": [
    "# Sumo Cleaner\n",
    "## Cleaning and Wrangling of banzuke.csv and results.csv"
   ],
   "cell_type": "markdown",
   "metadata": {}
  },
  {
   "cell_type": "code",
   "execution_count": 3,
   "metadata": {},
   "outputs": [],
   "source": [
    "import pandas as pd"
   ]
  },
  {
   "cell_type": "code",
   "execution_count": 4,
   "metadata": {},
   "outputs": [
    {
     "output_type": "execute_result",
     "data": {
      "text/plain": [
       "     basho    id   rank      rikishi        heya  shusshin  birth_date  \\\n",
       "0  1983.01  1354    Y1e  Chiyonofuji     Kokonoe  Hokkaido  1955-06-01   \n",
       "1  1983.01  4080    Y1w    Kitanoumi  Mihogaseki  Hokkaido  1953-05-16   \n",
       "2  1983.01  4095  Y2eHD   Wakanohana  Futagoyama    Aomori  1953-04-03   \n",
       "3  1983.01  4104    O1e   Takanosato  Futagoyama    Aomori  1952-09-29   \n",
       "4  1983.01  4112    O1w     Kotokaze  Sadogatake       Mie  1957-04-26   \n",
       "\n",
       "   height  weight   prev  prev_w  prev_l  \n",
       "0   182.0   116.0    Y1e    14.0     1.0  \n",
       "1   179.0   165.0  Y2eHD     9.0     3.0  \n",
       "2   186.0   133.0    Y1w     0.0     0.0  \n",
       "3   181.0   144.0    O1e    10.0     5.0  \n",
       "4   183.0   163.0    O1w    10.0     5.0  "
      ],
      "text/html": "<div>\n<style scoped>\n    .dataframe tbody tr th:only-of-type {\n        vertical-align: middle;\n    }\n\n    .dataframe tbody tr th {\n        vertical-align: top;\n    }\n\n    .dataframe thead th {\n        text-align: right;\n    }\n</style>\n<table border=\"1\" class=\"dataframe\">\n  <thead>\n    <tr style=\"text-align: right;\">\n      <th></th>\n      <th>basho</th>\n      <th>id</th>\n      <th>rank</th>\n      <th>rikishi</th>\n      <th>heya</th>\n      <th>shusshin</th>\n      <th>birth_date</th>\n      <th>height</th>\n      <th>weight</th>\n      <th>prev</th>\n      <th>prev_w</th>\n      <th>prev_l</th>\n    </tr>\n  </thead>\n  <tbody>\n    <tr>\n      <th>0</th>\n      <td>1983.01</td>\n      <td>1354</td>\n      <td>Y1e</td>\n      <td>Chiyonofuji</td>\n      <td>Kokonoe</td>\n      <td>Hokkaido</td>\n      <td>1955-06-01</td>\n      <td>182.0</td>\n      <td>116.0</td>\n      <td>Y1e</td>\n      <td>14.0</td>\n      <td>1.0</td>\n    </tr>\n    <tr>\n      <th>1</th>\n      <td>1983.01</td>\n      <td>4080</td>\n      <td>Y1w</td>\n      <td>Kitanoumi</td>\n      <td>Mihogaseki</td>\n      <td>Hokkaido</td>\n      <td>1953-05-16</td>\n      <td>179.0</td>\n      <td>165.0</td>\n      <td>Y2eHD</td>\n      <td>9.0</td>\n      <td>3.0</td>\n    </tr>\n    <tr>\n      <th>2</th>\n      <td>1983.01</td>\n      <td>4095</td>\n      <td>Y2eHD</td>\n      <td>Wakanohana</td>\n      <td>Futagoyama</td>\n      <td>Aomori</td>\n      <td>1953-04-03</td>\n      <td>186.0</td>\n      <td>133.0</td>\n      <td>Y1w</td>\n      <td>0.0</td>\n      <td>0.0</td>\n    </tr>\n    <tr>\n      <th>3</th>\n      <td>1983.01</td>\n      <td>4104</td>\n      <td>O1e</td>\n      <td>Takanosato</td>\n      <td>Futagoyama</td>\n      <td>Aomori</td>\n      <td>1952-09-29</td>\n      <td>181.0</td>\n      <td>144.0</td>\n      <td>O1e</td>\n      <td>10.0</td>\n      <td>5.0</td>\n    </tr>\n    <tr>\n      <th>4</th>\n      <td>1983.01</td>\n      <td>4112</td>\n      <td>O1w</td>\n      <td>Kotokaze</td>\n      <td>Sadogatake</td>\n      <td>Mie</td>\n      <td>1957-04-26</td>\n      <td>183.0</td>\n      <td>163.0</td>\n      <td>O1w</td>\n      <td>10.0</td>\n      <td>5.0</td>\n    </tr>\n  </tbody>\n</table>\n</div>"
     },
     "metadata": {},
     "execution_count": 4
    }
   ],
   "source": [
    "banzuke = pd.read_csv(\"data/banzuke.csv\")\n",
    "banzuke.head()"
   ]
  },
  {
   "cell_type": "code",
   "execution_count": 5,
   "metadata": {},
   "outputs": [
    {
     "output_type": "execute_result",
     "data": {
      "text/plain": [
       "        tournament_date     id   rank   wrestler     stable birth_place  \\\n",
       "169100          2021.05  12699  Jk25w     Osanai   Takasago      Aomori   \n",
       "169101          2021.05  12700  Jk26e        Abe    Oguruma    Kanagawa   \n",
       "169102          2021.05  12701  Jk26w   Sonoshun    Arashio   Kagoshima   \n",
       "169103          2021.05  12702  Jk27e  Fujiseiun  Fujishima     Saitama   \n",
       "169104          2021.05  12703  Jk27w     Suguro  Fujishima     Saitama   \n",
       "\n",
       "        birth_date  height  weight previous_rank  previous_wins  \\\n",
       "169100  1999-03-01   174.0   122.0            Mz            0.0   \n",
       "169101  2003-01-07   181.0   128.0            Mz            0.0   \n",
       "169102  2002-11-18   167.0    75.0            Mz            0.0   \n",
       "169103  1997-12-05   178.0   118.0            Mz            0.0   \n",
       "169104  1998-11-23   168.0   118.0            Mz            0.0   \n",
       "\n",
       "        previous_losses  \n",
       "169100              0.0  \n",
       "169101              0.0  \n",
       "169102              0.0  \n",
       "169103              0.0  \n",
       "169104              0.0  "
      ],
      "text/html": "<div>\n<style scoped>\n    .dataframe tbody tr th:only-of-type {\n        vertical-align: middle;\n    }\n\n    .dataframe tbody tr th {\n        vertical-align: top;\n    }\n\n    .dataframe thead th {\n        text-align: right;\n    }\n</style>\n<table border=\"1\" class=\"dataframe\">\n  <thead>\n    <tr style=\"text-align: right;\">\n      <th></th>\n      <th>tournament_date</th>\n      <th>id</th>\n      <th>rank</th>\n      <th>wrestler</th>\n      <th>stable</th>\n      <th>birth_place</th>\n      <th>birth_date</th>\n      <th>height</th>\n      <th>weight</th>\n      <th>previous_rank</th>\n      <th>previous_wins</th>\n      <th>previous_losses</th>\n    </tr>\n  </thead>\n  <tbody>\n    <tr>\n      <th>169100</th>\n      <td>2021.05</td>\n      <td>12699</td>\n      <td>Jk25w</td>\n      <td>Osanai</td>\n      <td>Takasago</td>\n      <td>Aomori</td>\n      <td>1999-03-01</td>\n      <td>174.0</td>\n      <td>122.0</td>\n      <td>Mz</td>\n      <td>0.0</td>\n      <td>0.0</td>\n    </tr>\n    <tr>\n      <th>169101</th>\n      <td>2021.05</td>\n      <td>12700</td>\n      <td>Jk26e</td>\n      <td>Abe</td>\n      <td>Oguruma</td>\n      <td>Kanagawa</td>\n      <td>2003-01-07</td>\n      <td>181.0</td>\n      <td>128.0</td>\n      <td>Mz</td>\n      <td>0.0</td>\n      <td>0.0</td>\n    </tr>\n    <tr>\n      <th>169102</th>\n      <td>2021.05</td>\n      <td>12701</td>\n      <td>Jk26w</td>\n      <td>Sonoshun</td>\n      <td>Arashio</td>\n      <td>Kagoshima</td>\n      <td>2002-11-18</td>\n      <td>167.0</td>\n      <td>75.0</td>\n      <td>Mz</td>\n      <td>0.0</td>\n      <td>0.0</td>\n    </tr>\n    <tr>\n      <th>169103</th>\n      <td>2021.05</td>\n      <td>12702</td>\n      <td>Jk27e</td>\n      <td>Fujiseiun</td>\n      <td>Fujishima</td>\n      <td>Saitama</td>\n      <td>1997-12-05</td>\n      <td>178.0</td>\n      <td>118.0</td>\n      <td>Mz</td>\n      <td>0.0</td>\n      <td>0.0</td>\n    </tr>\n    <tr>\n      <th>169104</th>\n      <td>2021.05</td>\n      <td>12703</td>\n      <td>Jk27w</td>\n      <td>Suguro</td>\n      <td>Fujishima</td>\n      <td>Saitama</td>\n      <td>1998-11-23</td>\n      <td>168.0</td>\n      <td>118.0</td>\n      <td>Mz</td>\n      <td>0.0</td>\n      <td>0.0</td>\n    </tr>\n  </tbody>\n</table>\n</div>"
     },
     "metadata": {},
     "execution_count": 5
    }
   ],
   "source": [
    "banzuke = banzuke.rename({'basho': 'tournament_date', 'rikishi': 'wrestler', 'heya': 'stable', 'shusshin': 'birth_place', 'prev': 'previous_rank', 'prev_w': 'previous_wins', 'prev_l': 'previous_losses'}, axis=\"columns\")\n",
    "banzuke.tail()"
   ]
  },
  {
   "cell_type": "code",
   "execution_count": 6,
   "metadata": {},
   "outputs": [
    {
     "output_type": "execute_result",
     "data": {
      "text/plain": [
       "tournament_date    float64\n",
       "id                   int64\n",
       "rank                object\n",
       "wrestler            object\n",
       "stable              object\n",
       "birth_place         object\n",
       "birth_date          object\n",
       "height             float64\n",
       "weight             float64\n",
       "previous_rank       object\n",
       "previous_wins      float64\n",
       "previous_losses    float64\n",
       "dtype: object"
      ]
     },
     "metadata": {},
     "execution_count": 6
    }
   ],
   "source": [
    "banzuke.dtypes"
   ]
  },
  {
   "cell_type": "code",
   "execution_count": 7,
   "metadata": {},
   "outputs": [],
   "source": [
    "import datetime"
   ]
  },
  {
   "cell_type": "code",
   "execution_count": 8,
   "metadata": {},
   "outputs": [
    {
     "output_type": "execute_result",
     "data": {
      "text/plain": [
       "       tournament_date     id   rank   wrestler     stable birth_place  \\\n",
       "169100      2021-05-01  12699  Jk25w     Osanai   Takasago      Aomori   \n",
       "169101      2021-05-01  12700  Jk26e        Abe    Oguruma    Kanagawa   \n",
       "169102      2021-05-01  12701  Jk26w   Sonoshun    Arashio   Kagoshima   \n",
       "169103      2021-05-01  12702  Jk27e  Fujiseiun  Fujishima     Saitama   \n",
       "169104      2021-05-01  12703  Jk27w     Suguro  Fujishima     Saitama   \n",
       "\n",
       "       birth_date  height  weight previous_rank  previous_wins  \\\n",
       "169100 1999-03-01   174.0   122.0            Mz            0.0   \n",
       "169101 2003-01-07   181.0   128.0            Mz            0.0   \n",
       "169102 2002-11-18   167.0    75.0            Mz            0.0   \n",
       "169103 1997-12-05   178.0   118.0            Mz            0.0   \n",
       "169104 1998-11-23   168.0   118.0            Mz            0.0   \n",
       "\n",
       "        previous_losses  \n",
       "169100              0.0  \n",
       "169101              0.0  \n",
       "169102              0.0  \n",
       "169103              0.0  \n",
       "169104              0.0  "
      ],
      "text/html": "<div>\n<style scoped>\n    .dataframe tbody tr th:only-of-type {\n        vertical-align: middle;\n    }\n\n    .dataframe tbody tr th {\n        vertical-align: top;\n    }\n\n    .dataframe thead th {\n        text-align: right;\n    }\n</style>\n<table border=\"1\" class=\"dataframe\">\n  <thead>\n    <tr style=\"text-align: right;\">\n      <th></th>\n      <th>tournament_date</th>\n      <th>id</th>\n      <th>rank</th>\n      <th>wrestler</th>\n      <th>stable</th>\n      <th>birth_place</th>\n      <th>birth_date</th>\n      <th>height</th>\n      <th>weight</th>\n      <th>previous_rank</th>\n      <th>previous_wins</th>\n      <th>previous_losses</th>\n    </tr>\n  </thead>\n  <tbody>\n    <tr>\n      <th>169100</th>\n      <td>2021-05-01</td>\n      <td>12699</td>\n      <td>Jk25w</td>\n      <td>Osanai</td>\n      <td>Takasago</td>\n      <td>Aomori</td>\n      <td>1999-03-01</td>\n      <td>174.0</td>\n      <td>122.0</td>\n      <td>Mz</td>\n      <td>0.0</td>\n      <td>0.0</td>\n    </tr>\n    <tr>\n      <th>169101</th>\n      <td>2021-05-01</td>\n      <td>12700</td>\n      <td>Jk26e</td>\n      <td>Abe</td>\n      <td>Oguruma</td>\n      <td>Kanagawa</td>\n      <td>2003-01-07</td>\n      <td>181.0</td>\n      <td>128.0</td>\n      <td>Mz</td>\n      <td>0.0</td>\n      <td>0.0</td>\n    </tr>\n    <tr>\n      <th>169102</th>\n      <td>2021-05-01</td>\n      <td>12701</td>\n      <td>Jk26w</td>\n      <td>Sonoshun</td>\n      <td>Arashio</td>\n      <td>Kagoshima</td>\n      <td>2002-11-18</td>\n      <td>167.0</td>\n      <td>75.0</td>\n      <td>Mz</td>\n      <td>0.0</td>\n      <td>0.0</td>\n    </tr>\n    <tr>\n      <th>169103</th>\n      <td>2021-05-01</td>\n      <td>12702</td>\n      <td>Jk27e</td>\n      <td>Fujiseiun</td>\n      <td>Fujishima</td>\n      <td>Saitama</td>\n      <td>1997-12-05</td>\n      <td>178.0</td>\n      <td>118.0</td>\n      <td>Mz</td>\n      <td>0.0</td>\n      <td>0.0</td>\n    </tr>\n    <tr>\n      <th>169104</th>\n      <td>2021-05-01</td>\n      <td>12703</td>\n      <td>Jk27w</td>\n      <td>Suguro</td>\n      <td>Fujishima</td>\n      <td>Saitama</td>\n      <td>1998-11-23</td>\n      <td>168.0</td>\n      <td>118.0</td>\n      <td>Mz</td>\n      <td>0.0</td>\n      <td>0.0</td>\n    </tr>\n  </tbody>\n</table>\n</div>"
     },
     "metadata": {},
     "execution_count": 8
    }
   ],
   "source": [
    "banzuke['tournament_date'] = pd.to_datetime(banzuke['tournament_date'].astype(str), format='%Y.%m')\n",
    "banzuke['birth_date'] = pd.to_datetime(banzuke['birth_date'].astype(str), format='%Y-%m-%d')\n",
    "banzuke.tail()"
   ]
  },
  {
   "cell_type": "code",
   "execution_count": 9,
   "metadata": {},
   "outputs": [
    {
     "output_type": "execute_result",
     "data": {
      "text/plain": [
       "tournament_date    datetime64[ns]\n",
       "id                          int64\n",
       "rank                       object\n",
       "wrestler                   object\n",
       "stable                     object\n",
       "birth_place                object\n",
       "birth_date         datetime64[ns]\n",
       "height                    float64\n",
       "weight                    float64\n",
       "previous_rank              object\n",
       "previous_wins             float64\n",
       "previous_losses           float64\n",
       "dtype: object"
      ]
     },
     "metadata": {},
     "execution_count": 9
    }
   ],
   "source": [
    "banzuke.dtypes"
   ]
  },
  {
   "cell_type": "code",
   "execution_count": 10,
   "metadata": {},
   "outputs": [
    {
     "output_type": "execute_result",
     "data": {
      "text/plain": [
       "array(['Y1e', 'Y1w', 'Y2eHD', 'O1e', 'O1w', 'O2wHD', 'S1e', 'S1w', 'K1e',\n",
       "       'K1w', 'M1e', 'M1w', 'M2e', 'M2w', 'M3e', 'M3w', 'M4e', 'M4w',\n",
       "       'M5e', 'M5w', 'M6e', 'M6w', 'M7e', 'M7w', 'M8e', 'M8w', 'M9e',\n",
       "       'M9w', 'M10e', 'M10w', 'M11e', 'M11w', 'M12e', 'M12w', 'M13e',\n",
       "       'M13w', 'M14e', 'M14w', 'J1e', 'J1w', 'J2e', 'J2w', 'J3e', 'J3w',\n",
       "       'J4e', 'J4w', 'J5e', 'J5w', 'J6e', 'J6w', 'J7e', 'J7w', 'J8e',\n",
       "       'J8w', 'J9e', 'J9w', 'J10e', 'J10w', 'J11e', 'J11w', 'J12e',\n",
       "       'J12w', 'J13e', 'J13w', 'Ms1e', 'Ms1w', 'Ms2e', 'Ms2w', 'Ms3e',\n",
       "       'Ms3w', 'Ms3wHD', 'Ms4e', 'Ms4w', 'Ms5e', 'Ms5w', 'Ms6e', 'Ms6w',\n",
       "       'Ms7e', 'Ms7w', 'Ms8e', 'Ms8w', 'Ms9e', 'Ms9w', 'Ms10e', 'Ms10w',\n",
       "       'Ms11e', 'Ms11w', 'Ms12e', 'Ms12w', 'Ms13e', 'Ms13w', 'Ms14e',\n",
       "       'Ms14w', 'Ms15e', 'Ms15w', 'Ms16e', 'Ms16w', 'Ms17e', 'Ms17w',\n",
       "       'Ms18e', 'Ms18w', 'Ms19e', 'Ms19w', 'Ms20e', 'Ms20w', 'Ms21e',\n",
       "       'Ms21w', 'Ms22e', 'Ms22w', 'Ms23e', 'Ms23w', 'Ms24e', 'Ms24w',\n",
       "       'Ms25e', 'Ms25w', 'Ms26e', 'Ms26w', 'Ms27e', 'Ms27w', 'Ms28e',\n",
       "       'Ms28w', 'Ms29e', 'Ms29w', 'Ms30e', 'Ms30w', 'Ms31e', 'Ms31w',\n",
       "       'Ms32e', 'Ms32w', 'Ms33e', 'Ms33w', 'Ms34e', 'Ms34w', 'Ms35e',\n",
       "       'Ms35w', 'Ms36e', 'Ms36w', 'Ms37e', 'Ms37w', 'Ms38e', 'Ms38w',\n",
       "       'Ms39e', 'Ms39w', 'Ms40e', 'Ms40w', 'Ms41e', 'Ms41w', 'Ms42e',\n",
       "       'Ms42w', 'Ms43e', 'Ms43w', 'Ms44e', 'Ms44w', 'Ms45e', 'Ms45w',\n",
       "       'Ms46e', 'Ms46w', 'Ms47e', 'Ms47w', 'Ms48e', 'Ms48w', 'Ms49e',\n",
       "       'Ms49w', 'Ms50e', 'Ms50w', 'Ms51e', 'Ms51w', 'Ms52e', 'Ms52w',\n",
       "       'Ms53e', 'Ms53w', 'Ms54e', 'Ms54w', 'Ms55e', 'Ms55w', 'Ms56e',\n",
       "       'Ms56w', 'Ms57e', 'Ms57w', 'Ms58e', 'Ms58w', 'Ms59e', 'Ms59w',\n",
       "       'Ms60e', 'Ms60w', 'Sd1e', 'Sd1w', 'Sd2e', 'Sd2w', 'Sd3e', 'Sd3w',\n",
       "       'Sd4e', 'Sd4w', 'Sd5e', 'Sd5w', 'Sd6e', 'Sd6w', 'Sd7e', 'Sd7w',\n",
       "       'Sd8e', 'Sd8w', 'Sd9e', 'Sd9w', 'Sd10e', 'Sd10w', 'Sd11e', 'Sd11w',\n",
       "       'Sd12e', 'Sd12w', 'Sd13e', 'Sd13w', 'Sd14e', 'Sd14w', 'Sd15e',\n",
       "       'Sd16e', 'Sd16w', 'Sd17e', 'Sd17w', 'Sd18e', 'Sd18w', 'Sd19e',\n",
       "       'Sd19w', 'Sd20e', 'Sd20w', 'Sd21e', 'Sd21w', 'Sd22e', 'Sd22w',\n",
       "       'Sd23e', 'Sd23w', 'Sd24e', 'Sd24w', 'Sd25e', 'Sd25w', 'Sd26e',\n",
       "       'Sd26w', 'Sd27e', 'Sd27w', 'Sd28e', 'Sd28w', 'Sd29e', 'Sd29w',\n",
       "       'Sd30e', 'Sd30w', 'Sd31e', 'Sd31w', 'Sd32e', 'Sd32w', 'Sd33e',\n",
       "       'Sd33w', 'Sd34e', 'Sd34w', 'Sd35e', 'Sd35w', 'Sd36e', 'Sd36w',\n",
       "       'Sd37e', 'Sd37w', 'Sd38e', 'Sd38w', 'Sd39e', 'Sd39w', 'Sd40e',\n",
       "       'Sd40w', 'Sd41e', 'Sd41w', 'Sd42e', 'Sd42w', 'Sd43e', 'Sd43w',\n",
       "       'Sd44e', 'Sd44w', 'Sd45e', 'Sd45w', 'Sd46e', 'Sd46w', 'Sd47e',\n",
       "       'Sd47w', 'Sd48e', 'Sd48w', 'Sd49e', 'Sd49w', 'Sd50e', 'Sd50w',\n",
       "       'Sd51e', 'Sd51w', 'Sd52e', 'Sd52w', 'Sd53e', 'Sd53w', 'Sd54e',\n",
       "       'Sd54w', 'Sd55e', 'Sd55w', 'Sd56e', 'Sd56w', 'Sd57e', 'Sd57w',\n",
       "       'Sd58e', 'Sd58w', 'Sd59e', 'Sd59w', 'Sd60e', 'Sd60w', 'Sd61e',\n",
       "       'Sd61w', 'Sd62e', 'Sd62w', 'Sd63e', 'Sd63w', 'Sd64e', 'Sd64w',\n",
       "       'Sd65e', 'Sd65w', 'Sd66e', 'Sd66w', 'Sd67e', 'Sd67w', 'Sd68e',\n",
       "       'Sd68w', 'Sd69e', 'Sd69w', 'Sd70e', 'Sd70w', 'Sd71e', 'Sd71w',\n",
       "       'Sd72e', 'Sd72w', 'Sd73e', 'Sd73w', 'Sd74e', 'Sd74w', 'Sd75e',\n",
       "       'Sd75w', 'Sd76e', 'Sd76w', 'Sd77e', 'Sd77w', 'Sd78e', 'Sd78w',\n",
       "       'Sd79e', 'Sd79w', 'Sd80e', 'Sd80w', 'Sd81e', 'Sd81w', 'Sd82e',\n",
       "       'Sd82w', 'Sd83e', 'Sd83w', 'Sd84e', 'Sd84w', 'Sd85e', 'Sd85w',\n",
       "       'Sd86e', 'Sd86w', 'Sd87e', 'Sd87w', 'Sd88e', 'Sd88w', 'Sd89e',\n",
       "       'Sd89w', 'Sd90e', 'Sd90w', 'Jd1e', 'Jd1w', 'Jd2e', 'Jd2w', 'Jd3e',\n",
       "       'Jd3w', 'Jd4e', 'Jd4w', 'Jd5e', 'Jd5w', 'Jd6e', 'Jd6w', 'Jd7e',\n",
       "       'Jd7w', 'Jd8e', 'Jd8w', 'Jd9e', 'Jd9w', 'Jd10e', 'Jd10w', 'Jd11e',\n",
       "       'Jd11w', 'Jd12e', 'Jd12w', 'Jd13e', 'Jd13w', 'Jd14e', 'Jd14w',\n",
       "       'Jd15e', 'Jd15w', 'Jd16e', 'Jd16w', 'Jd17e', 'Jd17w', 'Jd18e',\n",
       "       'Jd18w', 'Jd19e', 'Jd19w', 'Jd20e', 'Jd20w', 'Jd21e', 'Jd21w',\n",
       "       'Jd22e', 'Jd22w', 'Jd23e', 'Jd23w', 'Jd24e', 'Jd24w', 'Jd25e',\n",
       "       'Jd25w', 'Jd26e', 'Jd26w', 'Jd27e', 'Jd27w', 'Jd28e', 'Jd28w',\n",
       "       'Jd29e', 'Jd29w', 'Jd30e', 'Jd30w', 'Jd31e', 'Jd31w', 'Jd32e',\n",
       "       'Jd32w', 'Jd33e', 'Jd33w', 'Jd34e', 'Jd34w', 'Jd35e', 'Jd35w',\n",
       "       'Jd36e', 'Jd36w', 'Jd37e', 'Jd37w', 'Jd38e', 'Jd38w', 'Jd39e',\n",
       "       'Jd39w', 'Jd40e', 'Jd40w', 'Jd41e', 'Jd41w', 'Jd42e', 'Jd42w',\n",
       "       'Jd43e', 'Jd43w', 'Jd44e', 'Jd44w', 'Jd45e', 'Jd45w', 'Jd46e',\n",
       "       'Jd46w', 'Jd47e', 'Jd47w', 'Jd48e', 'Jd48w', 'Jd49e', 'Jd49w',\n",
       "       'Jd50e', 'Jd50w', 'Jd51e', 'Jd51w', 'Jd52e', 'Jd52w', 'Jd53e',\n",
       "       'Jd53w', 'Jd54e', 'Jd54w', 'Jd55e', 'Jd55w', 'Jd56e', 'Jd56w',\n",
       "       'Jd57e', 'Jd57w', 'Jd58e', 'Jd58w', 'Jd59e', 'Jd59w', 'Jd60e',\n",
       "       'Jd60w', 'Jd61e', 'Jd61w', 'Jd62e', 'Jd62w', 'Jd63e', 'Jd63w',\n",
       "       'Jd64e', 'Jd64w', 'Jd65e', 'Jd65w', 'Jd66e', 'Jd66w', 'Jd67e',\n",
       "       'Jd67w', 'Jd68e', 'Jd68w', 'Jd69e', 'Jd69w', 'Jd70e', 'Jd70w',\n",
       "       'Jd71e', 'Jd71w', 'Jd72e', 'Jd72w', 'Jd73e', 'Jd73w', 'Jd74e',\n",
       "       'Jd74w', 'Jd75e', 'Jd75w', 'Jd76e', 'Jd76w', 'Jd77e', 'Jd77w',\n",
       "       'Jd78e', 'Jd78w', 'Jd79e', 'Jd79w', 'Jd80e', 'Jd80w', 'Jd81e',\n",
       "       'Jd81w', 'Jd82e', 'Jd82w', 'Jd83e', 'Jd83w', 'Jd84e', 'Jd84w',\n",
       "       'Jd85e', 'Jd85w', 'Jd86e', 'Jd86w', 'Jd87e', 'Jd87w', 'Jd88e',\n",
       "       'Jd88w', 'Jd89e', 'Jd89w', 'Jd90e', 'Jd90w', 'Jd91e', 'Jd91w',\n",
       "       'Jd92e', 'Jd92w', 'Jd93e', 'Jd93w', 'Jd94e', 'Jd94w', 'Jd95e',\n",
       "       'Jd95w', 'Jd96e', 'Jd96w', 'Jd97e', 'Jd97w', 'Jd98e', 'Jd98w',\n",
       "       'Jd99e', 'Jd99w', 'Jd100e', 'Jd100w', 'Jd101e', 'Jd101w', 'Jd102e',\n",
       "       'Jd102w', 'Jd103e', 'Jd103w', 'Jd104e', 'Jd104w', 'Jd105e',\n",
       "       'Jd105w', 'Jd106e', 'Jd106w', 'Jd107e', 'Jd107w', 'Jd108e',\n",
       "       'Jd108w', 'Jd109e', 'Jd109w', 'Jd110e', 'Jd110w', 'Jd111e',\n",
       "       'Jd111w', 'Jd112e', 'Jd112w', 'Jd113e', 'Jd113w', 'Jd114e',\n",
       "       'Jd114w', 'Jd115e', 'Jd115w', 'Jd116e', 'Jd116w', 'Jd117e',\n",
       "       'Jd117w', 'Jd118e', 'Jd118w', 'Jd119e', 'Jd119w', 'Jd120e',\n",
       "       'Jd120w', 'Jd121e', 'Jd121w', 'Jd122e', 'Jd122w', 'Jd123e',\n",
       "       'Jd123w', 'Jd124e', 'Jd124w', 'Jd125e', 'Jd125w', 'Jd126e',\n",
       "       'Jd126w', 'Jd127e', 'Jd127w', 'Jd128e', 'Jd128w', 'Jd129e',\n",
       "       'Jd129w', 'Jd130e', 'Jd130w', 'Jd131e', 'Jd131w', 'Jd132e',\n",
       "       'Jd132w', 'Jd133e', 'Jd133w', 'Jd134e', 'Jk1e', 'Jk1w', 'Jk2e',\n",
       "       'Jk2w', 'Jk3e', 'Jk3w', 'Jk4e', 'Jk4w', 'Jk5e', 'Jk5w', 'Jk6e',\n",
       "       'Jk6w', 'Jk7e', 'Jk7w', 'Jk8e', 'Jk8w', 'Jk9e', 'Jk9w', 'Jk10e',\n",
       "       'Jk10w', 'Jk11e', 'Jk11w', 'Jk12e', 'Jk12w', 'Jk13e', 'Jk13w',\n",
       "       'Jk14e', 'Jk14w', 'Jk15e', 'Jk15w', 'Jk16e', 'Jk16w', 'Jk17e',\n",
       "       'Jk17w', 'Jk18e', 'Jk18w', 'Jk19e', 'Jk19w', 'Jk20e', 'Jk20w',\n",
       "       'Jk21e', 'Jk21w', 'Jk22e', 'Jk22w', 'Jk23e', 'Jk23w', 'Jk24e',\n",
       "       'Jk24w', 'Jk25e', 'Jk25w', 'Jk26e', 'Jk26w', 'Jk27e', 'Jk27w',\n",
       "       'Jk28e', 'Jk28w', 'Jk29e', 'Jk29w', 'Jk30e', 'Jk30w', 'Jk31e',\n",
       "       'Jk31w', 'Jk32e', 'Jk32w', 'Jk33e', 'Jk33w', 'Jk34e', 'Jk34w',\n",
       "       'Jk35e', 'Jk35w', 'Jk36e', 'Jk36w', 'O2eHD', 'Ms60TD', 'Sd15w',\n",
       "       'Jd134w', 'Jd135e', 'Jd135w', 'Jd136e', 'Jd136w', 'Jd137e',\n",
       "       'Jd137w', 'Jd138e', 'Jd138w', 'Jd139e', 'Jd139w', 'Jd140e',\n",
       "       'Jd140w', 'Jd141e', 'Jd141w', 'Jd142e', 'Jd142w', 'Jd143e',\n",
       "       'Jd143w', 'Jd144e', 'Jd144w', 'Jd145e', 'Jd145w', 'Jd146e',\n",
       "       'Jd146w', 'Jd147e', 'Jd147w', 'Jd148e', 'Jd148w', 'Jd149e',\n",
       "       'Jd149w', 'Jd150e', 'Jd150w', 'Jd151e', 'Jd151w', 'Jk37e', 'Jk37w',\n",
       "       'Jk38e', 'Jk38w', 'Jk39e', 'Jk39w', 'Jk40e', 'Jk40w', 'Jk41e',\n",
       "       'Jk41w', 'Jk42e', 'Jk42w', 'Jk43e', 'Jk43w', 'Jk44e', 'Jk44w',\n",
       "       'Jk45e', 'Jk45w', 'Jk46e', 'Jk46w', 'Jk47e', 'Jk47w', 'Jk48e',\n",
       "       'Jk48w', 'Jk49e', 'Jk49w', 'Jk50e', 'Jk50w', 'Jk51e', 'Jk51w',\n",
       "       'Jk52e', 'Jk52w', 'Jk53e', 'Jk53w', 'Jk54e', 'Jk54w', 'Jk55e',\n",
       "       'Jk55w', 'Jk56e', 'Jk56w', 'Jk57e', 'O3eHD', 'M9eHD', 'Jd152e',\n",
       "       'Jd152w', 'Ms10eHD', 'Sd91e', 'Sd91w', 'Sd92e', 'Sd92w', 'Sd93e',\n",
       "       'Sd93w', 'Sd94e', 'Sd94w', 'Sd95e', 'Sd95w', 'Sd96e', 'Sd96w',\n",
       "       'Sd97e', 'Sd97w', 'Sd98e', 'Sd98w', 'Sd99e', 'Sd99w', 'Sd100e',\n",
       "       'Sd100w', 'Jk44wHD', 'Jk57w', 'Jk58e', 'Jk58w', 'Jk59e', 'Jk59w',\n",
       "       'Jk60e', 'Jk60w', 'Jk61e', 'Jk61w', 'Jk62e', 'Jk62w', 'S2eHD',\n",
       "       'Jd153e', 'Jd153w', 'Jd154e', 'Jd154w', 'Jd155e', 'Jd155w',\n",
       "       'Jd156e', 'Jd156w', 'Jd157e', 'Jd157w', 'Jd158e', 'Jd158w',\n",
       "       'Jd159e', 'Jd159w', 'Jd160e', 'Jd160w', 'Jd161e', 'Jd161w',\n",
       "       'Jd162e', 'Jd162w', 'S2wHD', 'O3wHD', 'Jd163e', 'Jd163w', 'Jd164e',\n",
       "       'Jd164w', 'Jk63e', 'Jk63w', 'Jk64e', 'Jk64w', 'Jk65e', 'Jk65w',\n",
       "       'Jk66e', 'Jk66w', 'Jk67e', 'Jk67w', 'Jk68e', 'Jk68w', 'Jk69e',\n",
       "       'Y2wHD', 'Sd101e', 'M15e', 'M15w', 'M16e', 'K2eHD', 'M16w',\n",
       "       'K2wHD', 'Jk69w', 'Jk70e', 'Jk70w', 'Jk71e', 'Jk71w', 'Jk72e',\n",
       "       'Jk72w', 'Jk73e', 'Jk73w', 'Jk74e', 'Jk74w', 'Jk75e', 'Jk75w',\n",
       "       'Jk76e', 'Jk76w', 'Jk77e', 'Jd165e', 'Jd165w', 'Jd166e', 'Jd166w',\n",
       "       'Jd167e', 'Jd167w', 'Jd168e', 'Jd168w', 'Jd169e', 'Jd169w',\n",
       "       'Jd170e', 'Jd170w', 'Jd171e', 'Jd171w', 'Jd172e', 'Jd172w',\n",
       "       'Jd173e', 'Jd173w', 'Jd174e', 'Jd174w', 'Jd175e', 'Jd175w',\n",
       "       'Jd176e', 'Jd176w', 'Jd177e', 'Jd177w', 'Jd178e', 'Jd178w',\n",
       "       'Jd179e', 'Jd179w', 'Jd180e', 'Jd180w', 'Jd181e', 'Jd181w',\n",
       "       'Jd182e', 'Jd182w', 'Jd183e', 'Jd183w', 'Jd184e', 'Jd184w',\n",
       "       'Jd185e', 'Jd185w', 'Jd186e', 'Jd186w', 'Jd187e', 'Jd187w',\n",
       "       'Jd188e', 'Jd188w', 'Jd189e', 'Jd189w', 'Jd190e', 'Jd190w',\n",
       "       'Jd191e', 'Jd191w', 'Jd192e', 'Jd192w', 'Jd193e', 'Jd193w',\n",
       "       'Jd194e', 'Jd194w', 'Jd195e', 'Jd195w', 'Jd196e', 'Jd196w',\n",
       "       'Jd197e', 'Jd197w', 'Jd198e', 'Jd198w', 'Jd199e', 'Jd199w',\n",
       "       'Jd200e', 'Jd200w', 'Jd201e', 'Jd201w', 'Jd202e', 'Jd202w',\n",
       "       'Jd203e', 'Jd203w', 'Jd204e', 'Jd204w', 'Jd205e', 'Jd205w',\n",
       "       'Jd206e', 'Jd206w', 'Jd207e', 'Jd207w', 'Jd208e', 'Jd208w',\n",
       "       'Jd209e', 'Jd209w', 'Jd210e', 'Jd210w', 'Y1eHD', 'O2e', 'O2w',\n",
       "       'K2w', 'S2w', 'S2e', 'Y2e', 'K2e', 'Y2w', 'O3w', 'O3e', 'Ms15TD',\n",
       "       'M17e', 'J14e', 'J14w', 'M17w', 'Ms10TD', 'Sd100TD', 'Y1wYO',\n",
       "       'M18e'], dtype=object)"
      ]
     },
     "metadata": {},
     "execution_count": 10
    }
   ],
   "source": [
    "banzuke[\"rank\"].unique()"
   ]
  },
  {
   "cell_type": "code",
   "execution_count": 11,
   "metadata": {},
   "outputs": [],
   "source": [
    "# A sekitori (関取) is a rikishi (力士, sumo wrestler) who is ranked in one of the top two professional divisions: makuuchi and jūryō.[1] The name literally translates to having taken the barrier, as only a relatively small fraction of those who enter professional sumo achieve sekitori status. (Source: wikipedia)\n",
    "\n",
    "sekitori = [\n",
    "    'Y1e', 'Y1eHD', 'Y1w', 'Y1wYO', 'Y2e', 'Y2eHD', 'Y2w', 'Y2wHD',\n",
    "    'O1e', 'O1w', 'O2e', 'O2eHD', 'O2w','O2wHD', 'O3e','O3eHD', 'O3w', 'O3wHD',\n",
    "    'S1e', 'S1w', 'S2e', 'S2w', 'S2wHD', \n",
    "    'K1e', 'K1w', 'K2e', 'K2eHD', 'K2w', 'K2wHD', \n",
    "    'M1e', 'M1w', 'M2e','M2w', 'M3e', 'M3w', 'M4e', 'M4w', 'M5e', 'M5w', 'M6e', 'M6w',\n",
    "    'M7e', 'M7w', 'M8e', 'M8w', 'M9e', 'M9eHD', 'M9w', 'M10e', 'M10w', 'M11e', 'M11w',\n",
    "    'M12e', 'M12w', 'M13e', 'M13w', 'M14e', 'M14w', 'M15e', 'M15w', 'M16e',  'M16w', \n",
    "    'M17e', 'M17w', 'M18e',\n",
    "    'J1e', 'J1w', 'J2e', 'J2w', 'J3e', 'J3w','J4e', 'J4w', 'J5e', 'J5w', 'J6e', 'J6w',\n",
    "    'J7e', 'J7w', 'J8e', 'J8w', 'J9e', 'J9w', 'J10e', 'J10w', 'J11e', 'J11w', 'J12e', 'J12w',\n",
    "    'J13e', 'J13w', 'J14e', 'J14w'\n",
    "    ]"
   ]
  },
  {
   "cell_type": "code",
   "execution_count": 12,
   "metadata": {},
   "outputs": [
    {
     "output_type": "execute_result",
     "data": {
      "text/plain": [
       "  tournament_date    id   rank     wrestler      stable birth_place  \\\n",
       "0      1983-01-01  1354    Y1e  Chiyonofuji     Kokonoe    Hokkaido   \n",
       "1      1983-01-01  4080    Y1w    Kitanoumi  Mihogaseki    Hokkaido   \n",
       "2      1983-01-01  4095  Y2eHD   Wakanohana  Futagoyama      Aomori   \n",
       "3      1983-01-01  4104    O1e   Takanosato  Futagoyama      Aomori   \n",
       "4      1983-01-01  4112    O1w     Kotokaze  Sadogatake         Mie   \n",
       "\n",
       "  birth_date  height  weight previous_rank  previous_wins  previous_losses  \n",
       "0 1955-06-01   182.0   116.0           Y1e           14.0              1.0  \n",
       "1 1953-05-16   179.0   165.0         Y2eHD            9.0              3.0  \n",
       "2 1953-04-03   186.0   133.0           Y1w            0.0              0.0  \n",
       "3 1952-09-29   181.0   144.0           O1e           10.0              5.0  \n",
       "4 1957-04-26   183.0   163.0           O1w           10.0              5.0  "
      ],
      "text/html": "<div>\n<style scoped>\n    .dataframe tbody tr th:only-of-type {\n        vertical-align: middle;\n    }\n\n    .dataframe tbody tr th {\n        vertical-align: top;\n    }\n\n    .dataframe thead th {\n        text-align: right;\n    }\n</style>\n<table border=\"1\" class=\"dataframe\">\n  <thead>\n    <tr style=\"text-align: right;\">\n      <th></th>\n      <th>tournament_date</th>\n      <th>id</th>\n      <th>rank</th>\n      <th>wrestler</th>\n      <th>stable</th>\n      <th>birth_place</th>\n      <th>birth_date</th>\n      <th>height</th>\n      <th>weight</th>\n      <th>previous_rank</th>\n      <th>previous_wins</th>\n      <th>previous_losses</th>\n    </tr>\n  </thead>\n  <tbody>\n    <tr>\n      <th>0</th>\n      <td>1983-01-01</td>\n      <td>1354</td>\n      <td>Y1e</td>\n      <td>Chiyonofuji</td>\n      <td>Kokonoe</td>\n      <td>Hokkaido</td>\n      <td>1955-06-01</td>\n      <td>182.0</td>\n      <td>116.0</td>\n      <td>Y1e</td>\n      <td>14.0</td>\n      <td>1.0</td>\n    </tr>\n    <tr>\n      <th>1</th>\n      <td>1983-01-01</td>\n      <td>4080</td>\n      <td>Y1w</td>\n      <td>Kitanoumi</td>\n      <td>Mihogaseki</td>\n      <td>Hokkaido</td>\n      <td>1953-05-16</td>\n      <td>179.0</td>\n      <td>165.0</td>\n      <td>Y2eHD</td>\n      <td>9.0</td>\n      <td>3.0</td>\n    </tr>\n    <tr>\n      <th>2</th>\n      <td>1983-01-01</td>\n      <td>4095</td>\n      <td>Y2eHD</td>\n      <td>Wakanohana</td>\n      <td>Futagoyama</td>\n      <td>Aomori</td>\n      <td>1953-04-03</td>\n      <td>186.0</td>\n      <td>133.0</td>\n      <td>Y1w</td>\n      <td>0.0</td>\n      <td>0.0</td>\n    </tr>\n    <tr>\n      <th>3</th>\n      <td>1983-01-01</td>\n      <td>4104</td>\n      <td>O1e</td>\n      <td>Takanosato</td>\n      <td>Futagoyama</td>\n      <td>Aomori</td>\n      <td>1952-09-29</td>\n      <td>181.0</td>\n      <td>144.0</td>\n      <td>O1e</td>\n      <td>10.0</td>\n      <td>5.0</td>\n    </tr>\n    <tr>\n      <th>4</th>\n      <td>1983-01-01</td>\n      <td>4112</td>\n      <td>O1w</td>\n      <td>Kotokaze</td>\n      <td>Sadogatake</td>\n      <td>Mie</td>\n      <td>1957-04-26</td>\n      <td>183.0</td>\n      <td>163.0</td>\n      <td>O1w</td>\n      <td>10.0</td>\n      <td>5.0</td>\n    </tr>\n  </tbody>\n</table>\n</div>"
     },
     "metadata": {},
     "execution_count": 12
    }
   ],
   "source": [
    "# banzukitori is new dataframe that only includes top two divisions\n",
    "banzukitori = banzuke[banzuke[\"rank\"].isin(sekitori)]\n",
    "banzukitori.head()"
   ]
  },
  {
   "cell_type": "code",
   "execution_count": 13,
   "metadata": {},
   "outputs": [
    {
     "output_type": "stream",
     "name": "stdout",
     "text": [
      "<class 'pandas.core.frame.DataFrame'>\nInt64Index: 15399 entries, 0 to 168503\nData columns (total 12 columns):\n #   Column           Non-Null Count  Dtype         \n---  ------           --------------  -----         \n 0   tournament_date  15399 non-null  datetime64[ns]\n 1   id               15399 non-null  int64         \n 2   rank             15399 non-null  object        \n 3   wrestler         15399 non-null  object        \n 4   stable           15399 non-null  object        \n 5   birth_place      15399 non-null  object        \n 6   birth_date       15399 non-null  datetime64[ns]\n 7   height           15397 non-null  float64       \n 8   weight           15397 non-null  float64       \n 9   previous_rank    15399 non-null  object        \n 10  previous_wins    15399 non-null  float64       \n 11  previous_losses  15399 non-null  float64       \ndtypes: datetime64[ns](2), float64(4), int64(1), object(5)\nmemory usage: 1.5+ MB\n"
     ]
    }
   ],
   "source": [
    "banzukitori.info()"
   ]
  },
  {
   "cell_type": "code",
   "execution_count": 14,
   "metadata": {},
   "outputs": [
    {
     "output_type": "stream",
     "name": "stdout",
     "text": [
      "<class 'pandas.core.frame.DataFrame'>\nInt64Index: 15397 entries, 0 to 168503\nData columns (total 12 columns):\n #   Column           Non-Null Count  Dtype         \n---  ------           --------------  -----         \n 0   tournament_date  15397 non-null  datetime64[ns]\n 1   id               15397 non-null  int64         \n 2   rank             15397 non-null  object        \n 3   wrestler         15397 non-null  object        \n 4   stable           15397 non-null  object        \n 5   birth_place      15397 non-null  object        \n 6   birth_date       15397 non-null  datetime64[ns]\n 7   height           15397 non-null  float64       \n 8   weight           15397 non-null  float64       \n 9   previous_rank    15397 non-null  object        \n 10  previous_wins    15397 non-null  float64       \n 11  previous_losses  15397 non-null  float64       \ndtypes: datetime64[ns](2), float64(4), int64(1), object(5)\nmemory usage: 1.5+ MB\n"
     ]
    }
   ],
   "source": [
    "banzukitori = banzukitori.dropna()\n",
    "banzukitori.info()"
   ]
  },
  {
   "cell_type": "code",
   "execution_count": 15,
   "metadata": {},
   "outputs": [
    {
     "output_type": "stream",
     "name": "stdout",
     "text": [
      "<class 'pandas.core.frame.DataFrame'>\nInt64Index: 15397 entries, 0 to 168503\nData columns (total 12 columns):\n #   Column           Non-Null Count  Dtype         \n---  ------           --------------  -----         \n 0   tournament_date  15397 non-null  datetime64[ns]\n 1   id               15397 non-null  int64         \n 2   rank             15397 non-null  object        \n 3   wrestler         15397 non-null  object        \n 4   stable           15397 non-null  object        \n 5   birth_place      15397 non-null  object        \n 6   birth_date       15397 non-null  datetime64[ns]\n 7   height           15397 non-null  float64       \n 8   weight           15397 non-null  float64       \n 9   previous_rank    15397 non-null  object        \n 10  previous_wins    15397 non-null  float64       \n 11  previous_losses  15397 non-null  float64       \ndtypes: datetime64[ns](2), float64(4), int64(1), object(5)\nmemory usage: 1.5+ MB\n"
     ]
    }
   ],
   "source": [
    "banzukitori.info()"
   ]
  },
  {
   "cell_type": "code",
   "execution_count": 23,
   "metadata": {},
   "outputs": [
    {
     "output_type": "execute_result",
     "data": {
      "text/plain": [
       "  tournament_date    id   rank     wrestler       stable birth_place  \\\n",
       "0      1983-01-01  1354    Y1e  Chiyonofuji      Kokonoe    Hokkaido   \n",
       "1      1983-01-01  4080    Y1w    Kitanoumi   Mihogaseki    Hokkaido   \n",
       "2      1983-01-01  4095  Y2eHD   Wakanohana   Futagoyama      Aomori   \n",
       "3      1983-01-01  4104    O1e   Takanosato   Futagoyama      Aomori   \n",
       "4      1983-01-01  4112    O1w     Kotokaze   Sadogatake         Mie   \n",
       "5      1983-01-01  4127  O2wHD  Wakashimazu   Futagoyama   Kagoshima   \n",
       "6      1983-01-01  1363    S1e    Hokutenyu   Mihogaseki    Hokkaido   \n",
       "7      1983-01-01  1379    S1w      Asashio     Takasago       Kochi   \n",
       "8      1983-01-01  4116    K1e   Dewanohana    Dewanoumi      Aomori   \n",
       "9      1983-01-01  4134    K1w      Oyutaka  Tokitsukaze     Niigata   \n",
       "\n",
       "  birth_date  height  weight previous_rank  previous_wins  previous_losses  \n",
       "0 1955-06-01   182.0   116.0           Y1e           14.0              1.0  \n",
       "1 1953-05-16   179.0   165.0         Y2eHD            9.0              3.0  \n",
       "2 1953-04-03   186.0   133.0           Y1w            0.0              0.0  \n",
       "3 1952-09-29   181.0   144.0           O1e           10.0              5.0  \n",
       "4 1957-04-26   183.0   163.0           O1w           10.0              5.0  \n",
       "5 1957-01-12   186.5   121.0           S1e           12.0              3.0  \n",
       "6 1960-08-08   182.5   138.0           K1w            8.0              7.0  \n",
       "7 1955-12-09   181.0   181.0           M1e            9.0              6.0  \n",
       "8 1951-05-13   185.0   124.0           M1w            9.0              6.0  \n",
       "9 1955-03-29   185.5   156.0           M9e           11.0              4.0  "
      ],
      "text/html": "<div>\n<style scoped>\n    .dataframe tbody tr th:only-of-type {\n        vertical-align: middle;\n    }\n\n    .dataframe tbody tr th {\n        vertical-align: top;\n    }\n\n    .dataframe thead th {\n        text-align: right;\n    }\n</style>\n<table border=\"1\" class=\"dataframe\">\n  <thead>\n    <tr style=\"text-align: right;\">\n      <th></th>\n      <th>tournament_date</th>\n      <th>id</th>\n      <th>rank</th>\n      <th>wrestler</th>\n      <th>stable</th>\n      <th>birth_place</th>\n      <th>birth_date</th>\n      <th>height</th>\n      <th>weight</th>\n      <th>previous_rank</th>\n      <th>previous_wins</th>\n      <th>previous_losses</th>\n    </tr>\n  </thead>\n  <tbody>\n    <tr>\n      <th>0</th>\n      <td>1983-01-01</td>\n      <td>1354</td>\n      <td>Y1e</td>\n      <td>Chiyonofuji</td>\n      <td>Kokonoe</td>\n      <td>Hokkaido</td>\n      <td>1955-06-01</td>\n      <td>182.0</td>\n      <td>116.0</td>\n      <td>Y1e</td>\n      <td>14.0</td>\n      <td>1.0</td>\n    </tr>\n    <tr>\n      <th>1</th>\n      <td>1983-01-01</td>\n      <td>4080</td>\n      <td>Y1w</td>\n      <td>Kitanoumi</td>\n      <td>Mihogaseki</td>\n      <td>Hokkaido</td>\n      <td>1953-05-16</td>\n      <td>179.0</td>\n      <td>165.0</td>\n      <td>Y2eHD</td>\n      <td>9.0</td>\n      <td>3.0</td>\n    </tr>\n    <tr>\n      <th>2</th>\n      <td>1983-01-01</td>\n      <td>4095</td>\n      <td>Y2eHD</td>\n      <td>Wakanohana</td>\n      <td>Futagoyama</td>\n      <td>Aomori</td>\n      <td>1953-04-03</td>\n      <td>186.0</td>\n      <td>133.0</td>\n      <td>Y1w</td>\n      <td>0.0</td>\n      <td>0.0</td>\n    </tr>\n    <tr>\n      <th>3</th>\n      <td>1983-01-01</td>\n      <td>4104</td>\n      <td>O1e</td>\n      <td>Takanosato</td>\n      <td>Futagoyama</td>\n      <td>Aomori</td>\n      <td>1952-09-29</td>\n      <td>181.0</td>\n      <td>144.0</td>\n      <td>O1e</td>\n      <td>10.0</td>\n      <td>5.0</td>\n    </tr>\n    <tr>\n      <th>4</th>\n      <td>1983-01-01</td>\n      <td>4112</td>\n      <td>O1w</td>\n      <td>Kotokaze</td>\n      <td>Sadogatake</td>\n      <td>Mie</td>\n      <td>1957-04-26</td>\n      <td>183.0</td>\n      <td>163.0</td>\n      <td>O1w</td>\n      <td>10.0</td>\n      <td>5.0</td>\n    </tr>\n    <tr>\n      <th>5</th>\n      <td>1983-01-01</td>\n      <td>4127</td>\n      <td>O2wHD</td>\n      <td>Wakashimazu</td>\n      <td>Futagoyama</td>\n      <td>Kagoshima</td>\n      <td>1957-01-12</td>\n      <td>186.5</td>\n      <td>121.0</td>\n      <td>S1e</td>\n      <td>12.0</td>\n      <td>3.0</td>\n    </tr>\n    <tr>\n      <th>6</th>\n      <td>1983-01-01</td>\n      <td>1363</td>\n      <td>S1e</td>\n      <td>Hokutenyu</td>\n      <td>Mihogaseki</td>\n      <td>Hokkaido</td>\n      <td>1960-08-08</td>\n      <td>182.5</td>\n      <td>138.0</td>\n      <td>K1w</td>\n      <td>8.0</td>\n      <td>7.0</td>\n    </tr>\n    <tr>\n      <th>7</th>\n      <td>1983-01-01</td>\n      <td>1379</td>\n      <td>S1w</td>\n      <td>Asashio</td>\n      <td>Takasago</td>\n      <td>Kochi</td>\n      <td>1955-12-09</td>\n      <td>181.0</td>\n      <td>181.0</td>\n      <td>M1e</td>\n      <td>9.0</td>\n      <td>6.0</td>\n    </tr>\n    <tr>\n      <th>8</th>\n      <td>1983-01-01</td>\n      <td>4116</td>\n      <td>K1e</td>\n      <td>Dewanohana</td>\n      <td>Dewanoumi</td>\n      <td>Aomori</td>\n      <td>1951-05-13</td>\n      <td>185.0</td>\n      <td>124.0</td>\n      <td>M1w</td>\n      <td>9.0</td>\n      <td>6.0</td>\n    </tr>\n    <tr>\n      <th>9</th>\n      <td>1983-01-01</td>\n      <td>4134</td>\n      <td>K1w</td>\n      <td>Oyutaka</td>\n      <td>Tokitsukaze</td>\n      <td>Niigata</td>\n      <td>1955-03-29</td>\n      <td>185.5</td>\n      <td>156.0</td>\n      <td>M9e</td>\n      <td>11.0</td>\n      <td>4.0</td>\n    </tr>\n  </tbody>\n</table>\n</div>"
     },
     "metadata": {},
     "execution_count": 23
    }
   ],
   "source": [
    "banzukitori.to_csv(\"data/banzuke_clean.csv\")\n",
    "banzukitori.head(10)"
   ]
  },
  {
   "cell_type": "code",
   "execution_count": 17,
   "metadata": {},
   "outputs": [
    {
     "output_type": "execute_result",
     "data": {
      "text/plain": [
       "          basho  day  rikishi1_id rikishi1_rank rikishi1_shikona  \\\n",
       "219985  2021.05   15        12130           O2e           Shodai   \n",
       "219986  2021.05   15        11927           O2w       Terunofuji   \n",
       "219987  2021.05   15        12191           O1w       Takakeisho   \n",
       "219988  2021.05   16        11927           O2w       Terunofuji   \n",
       "219989  2021.05   16        12191           O1w       Takakeisho   \n",
       "\n",
       "       rikishi1_result  rikishi1_win     kimarite  rikishi2_id rikishi2_rank  \\\n",
       "219985             9-6             1    oshidashi        12055           M8w   \n",
       "219986            12-3             0  tsukiotoshi        12191           O1w   \n",
       "219987            12-3             1  tsukiotoshi        11927           O2w   \n",
       "219988          (12-3)             1   hatakikomi        12191           O1w   \n",
       "219989          (12-3)             0   hatakikomi        11927           O2w   \n",
       "\n",
       "       rikishi2_shikona rikishi2_result  rikishi2_win  \n",
       "219985             Endo            11-4             0  \n",
       "219986       Takakeisho            12-3             1  \n",
       "219987       Terunofuji            12-3             0  \n",
       "219988       Takakeisho          (12-3)             0  \n",
       "219989       Terunofuji          (12-3)             1  "
      ],
      "text/html": "<div>\n<style scoped>\n    .dataframe tbody tr th:only-of-type {\n        vertical-align: middle;\n    }\n\n    .dataframe tbody tr th {\n        vertical-align: top;\n    }\n\n    .dataframe thead th {\n        text-align: right;\n    }\n</style>\n<table border=\"1\" class=\"dataframe\">\n  <thead>\n    <tr style=\"text-align: right;\">\n      <th></th>\n      <th>basho</th>\n      <th>day</th>\n      <th>rikishi1_id</th>\n      <th>rikishi1_rank</th>\n      <th>rikishi1_shikona</th>\n      <th>rikishi1_result</th>\n      <th>rikishi1_win</th>\n      <th>kimarite</th>\n      <th>rikishi2_id</th>\n      <th>rikishi2_rank</th>\n      <th>rikishi2_shikona</th>\n      <th>rikishi2_result</th>\n      <th>rikishi2_win</th>\n    </tr>\n  </thead>\n  <tbody>\n    <tr>\n      <th>219985</th>\n      <td>2021.05</td>\n      <td>15</td>\n      <td>12130</td>\n      <td>O2e</td>\n      <td>Shodai</td>\n      <td>9-6</td>\n      <td>1</td>\n      <td>oshidashi</td>\n      <td>12055</td>\n      <td>M8w</td>\n      <td>Endo</td>\n      <td>11-4</td>\n      <td>0</td>\n    </tr>\n    <tr>\n      <th>219986</th>\n      <td>2021.05</td>\n      <td>15</td>\n      <td>11927</td>\n      <td>O2w</td>\n      <td>Terunofuji</td>\n      <td>12-3</td>\n      <td>0</td>\n      <td>tsukiotoshi</td>\n      <td>12191</td>\n      <td>O1w</td>\n      <td>Takakeisho</td>\n      <td>12-3</td>\n      <td>1</td>\n    </tr>\n    <tr>\n      <th>219987</th>\n      <td>2021.05</td>\n      <td>15</td>\n      <td>12191</td>\n      <td>O1w</td>\n      <td>Takakeisho</td>\n      <td>12-3</td>\n      <td>1</td>\n      <td>tsukiotoshi</td>\n      <td>11927</td>\n      <td>O2w</td>\n      <td>Terunofuji</td>\n      <td>12-3</td>\n      <td>0</td>\n    </tr>\n    <tr>\n      <th>219988</th>\n      <td>2021.05</td>\n      <td>16</td>\n      <td>11927</td>\n      <td>O2w</td>\n      <td>Terunofuji</td>\n      <td>(12-3)</td>\n      <td>1</td>\n      <td>hatakikomi</td>\n      <td>12191</td>\n      <td>O1w</td>\n      <td>Takakeisho</td>\n      <td>(12-3)</td>\n      <td>0</td>\n    </tr>\n    <tr>\n      <th>219989</th>\n      <td>2021.05</td>\n      <td>16</td>\n      <td>12191</td>\n      <td>O1w</td>\n      <td>Takakeisho</td>\n      <td>(12-3)</td>\n      <td>0</td>\n      <td>hatakikomi</td>\n      <td>11927</td>\n      <td>O2w</td>\n      <td>Terunofuji</td>\n      <td>(12-3)</td>\n      <td>1</td>\n    </tr>\n  </tbody>\n</table>\n</div>"
     },
     "metadata": {},
     "execution_count": 17
    }
   ],
   "source": [
    "results = pd.read_csv('data/results.csv')\n",
    "results.tail()"
   ]
  },
  {
   "cell_type": "code",
   "execution_count": 18,
   "metadata": {},
   "outputs": [
    {
     "output_type": "execute_result",
     "data": {
      "text/plain": [
       "        tournament_date  day  wrestler1_id wrestler1_rank wrestler1_name  \\\n",
       "219985          2021.05   15         12130            O2e         Shodai   \n",
       "219986          2021.05   15         11927            O2w     Terunofuji   \n",
       "219987          2021.05   15         12191            O1w     Takakeisho   \n",
       "219988          2021.05   16         11927            O2w     Terunofuji   \n",
       "219989          2021.05   16         12191            O1w     Takakeisho   \n",
       "\n",
       "       wrestler1_result  wrestler1_win finishing_move  wrestler2_id  \\\n",
       "219985              9-6              1      oshidashi         12055   \n",
       "219986             12-3              0    tsukiotoshi         12191   \n",
       "219987             12-3              1    tsukiotoshi         11927   \n",
       "219988           (12-3)              1     hatakikomi         12191   \n",
       "219989           (12-3)              0     hatakikomi         11927   \n",
       "\n",
       "       wrestler2_rank wrestler2_name wrestler2_result  wrestler2_win  \n",
       "219985            M8w           Endo             11-4              0  \n",
       "219986            O1w     Takakeisho             12-3              1  \n",
       "219987            O2w     Terunofuji             12-3              0  \n",
       "219988            O1w     Takakeisho           (12-3)              0  \n",
       "219989            O2w     Terunofuji           (12-3)              1  "
      ],
      "text/html": "<div>\n<style scoped>\n    .dataframe tbody tr th:only-of-type {\n        vertical-align: middle;\n    }\n\n    .dataframe tbody tr th {\n        vertical-align: top;\n    }\n\n    .dataframe thead th {\n        text-align: right;\n    }\n</style>\n<table border=\"1\" class=\"dataframe\">\n  <thead>\n    <tr style=\"text-align: right;\">\n      <th></th>\n      <th>tournament_date</th>\n      <th>day</th>\n      <th>wrestler1_id</th>\n      <th>wrestler1_rank</th>\n      <th>wrestler1_name</th>\n      <th>wrestler1_result</th>\n      <th>wrestler1_win</th>\n      <th>finishing_move</th>\n      <th>wrestler2_id</th>\n      <th>wrestler2_rank</th>\n      <th>wrestler2_name</th>\n      <th>wrestler2_result</th>\n      <th>wrestler2_win</th>\n    </tr>\n  </thead>\n  <tbody>\n    <tr>\n      <th>219985</th>\n      <td>2021.05</td>\n      <td>15</td>\n      <td>12130</td>\n      <td>O2e</td>\n      <td>Shodai</td>\n      <td>9-6</td>\n      <td>1</td>\n      <td>oshidashi</td>\n      <td>12055</td>\n      <td>M8w</td>\n      <td>Endo</td>\n      <td>11-4</td>\n      <td>0</td>\n    </tr>\n    <tr>\n      <th>219986</th>\n      <td>2021.05</td>\n      <td>15</td>\n      <td>11927</td>\n      <td>O2w</td>\n      <td>Terunofuji</td>\n      <td>12-3</td>\n      <td>0</td>\n      <td>tsukiotoshi</td>\n      <td>12191</td>\n      <td>O1w</td>\n      <td>Takakeisho</td>\n      <td>12-3</td>\n      <td>1</td>\n    </tr>\n    <tr>\n      <th>219987</th>\n      <td>2021.05</td>\n      <td>15</td>\n      <td>12191</td>\n      <td>O1w</td>\n      <td>Takakeisho</td>\n      <td>12-3</td>\n      <td>1</td>\n      <td>tsukiotoshi</td>\n      <td>11927</td>\n      <td>O2w</td>\n      <td>Terunofuji</td>\n      <td>12-3</td>\n      <td>0</td>\n    </tr>\n    <tr>\n      <th>219988</th>\n      <td>2021.05</td>\n      <td>16</td>\n      <td>11927</td>\n      <td>O2w</td>\n      <td>Terunofuji</td>\n      <td>(12-3)</td>\n      <td>1</td>\n      <td>hatakikomi</td>\n      <td>12191</td>\n      <td>O1w</td>\n      <td>Takakeisho</td>\n      <td>(12-3)</td>\n      <td>0</td>\n    </tr>\n    <tr>\n      <th>219989</th>\n      <td>2021.05</td>\n      <td>16</td>\n      <td>12191</td>\n      <td>O1w</td>\n      <td>Takakeisho</td>\n      <td>(12-3)</td>\n      <td>0</td>\n      <td>hatakikomi</td>\n      <td>11927</td>\n      <td>O2w</td>\n      <td>Terunofuji</td>\n      <td>(12-3)</td>\n      <td>1</td>\n    </tr>\n  </tbody>\n</table>\n</div>"
     },
     "metadata": {},
     "execution_count": 18
    }
   ],
   "source": [
    "results = results.rename({'basho': 'tournament_date', 'rikishi1_id': 'wrestler1_id', 'rikishi1_rank': 'wrestler1_rank', 'rikishi1_shikona': 'wrestler1_name', 'rikishi1_result': 'wrestler1_result',  'rikishi1_win': 'wrestler1_win', 'kimarite': 'finishing_move', 'rikishi2_id': 'wrestler2_id', 'rikishi2_rank': 'wrestler2_rank', 'rikishi2_shikona': 'wrestler2_name', 'rikishi2_result': 'wrestler2_result',  'rikishi2_win': 'wrestler2_win'}, axis=\"columns\")\n",
    "results.tail()"
   ]
  },
  {
   "cell_type": "code",
   "execution_count": 19,
   "metadata": {},
   "outputs": [
    {
     "output_type": "stream",
     "name": "stdout",
     "text": [
      "<class 'pandas.core.frame.DataFrame'>\nRangeIndex: 219990 entries, 0 to 219989\nData columns (total 13 columns):\n #   Column            Non-Null Count   Dtype  \n---  ------            --------------   -----  \n 0   tournament_date   219990 non-null  float64\n 1   day               219990 non-null  int64  \n 2   wrestler1_id      219990 non-null  int64  \n 3   wrestler1_rank    219990 non-null  object \n 4   wrestler1_name    219990 non-null  object \n 5   wrestler1_result  219990 non-null  object \n 6   wrestler1_win     219990 non-null  int64  \n 7   finishing_move    219990 non-null  object \n 8   wrestler2_id      219990 non-null  int64  \n 9   wrestler2_rank    219990 non-null  object \n 10  wrestler2_name    219990 non-null  object \n 11  wrestler2_result  219990 non-null  object \n 12  wrestler2_win     219990 non-null  int64  \ndtypes: float64(1), int64(5), object(7)\nmemory usage: 21.8+ MB\n"
     ]
    }
   ],
   "source": [
    "results.info()"
   ]
  },
  {
   "cell_type": "code",
   "execution_count": 20,
   "metadata": {},
   "outputs": [
    {
     "output_type": "execute_result",
     "data": {
      "text/plain": [
       "       tournament_date  day  wrestler1_id wrestler1_rank wrestler1_name  \\\n",
       "219985      2021-05-01   15         12130            O2e         Shodai   \n",
       "219986      2021-05-01   15         11927            O2w     Terunofuji   \n",
       "219987      2021-05-01   15         12191            O1w     Takakeisho   \n",
       "219988      2021-05-01   16         11927            O2w     Terunofuji   \n",
       "219989      2021-05-01   16         12191            O1w     Takakeisho   \n",
       "\n",
       "       wrestler1_result  wrestler1_win finishing_move  wrestler2_id  \\\n",
       "219985              9-6              1      oshidashi         12055   \n",
       "219986             12-3              0    tsukiotoshi         12191   \n",
       "219987             12-3              1    tsukiotoshi         11927   \n",
       "219988           (12-3)              1     hatakikomi         12191   \n",
       "219989           (12-3)              0     hatakikomi         11927   \n",
       "\n",
       "       wrestler2_rank wrestler2_name wrestler2_result  wrestler2_win  \n",
       "219985            M8w           Endo             11-4              0  \n",
       "219986            O1w     Takakeisho             12-3              1  \n",
       "219987            O2w     Terunofuji             12-3              0  \n",
       "219988            O1w     Takakeisho           (12-3)              0  \n",
       "219989            O2w     Terunofuji           (12-3)              1  "
      ],
      "text/html": "<div>\n<style scoped>\n    .dataframe tbody tr th:only-of-type {\n        vertical-align: middle;\n    }\n\n    .dataframe tbody tr th {\n        vertical-align: top;\n    }\n\n    .dataframe thead th {\n        text-align: right;\n    }\n</style>\n<table border=\"1\" class=\"dataframe\">\n  <thead>\n    <tr style=\"text-align: right;\">\n      <th></th>\n      <th>tournament_date</th>\n      <th>day</th>\n      <th>wrestler1_id</th>\n      <th>wrestler1_rank</th>\n      <th>wrestler1_name</th>\n      <th>wrestler1_result</th>\n      <th>wrestler1_win</th>\n      <th>finishing_move</th>\n      <th>wrestler2_id</th>\n      <th>wrestler2_rank</th>\n      <th>wrestler2_name</th>\n      <th>wrestler2_result</th>\n      <th>wrestler2_win</th>\n    </tr>\n  </thead>\n  <tbody>\n    <tr>\n      <th>219985</th>\n      <td>2021-05-01</td>\n      <td>15</td>\n      <td>12130</td>\n      <td>O2e</td>\n      <td>Shodai</td>\n      <td>9-6</td>\n      <td>1</td>\n      <td>oshidashi</td>\n      <td>12055</td>\n      <td>M8w</td>\n      <td>Endo</td>\n      <td>11-4</td>\n      <td>0</td>\n    </tr>\n    <tr>\n      <th>219986</th>\n      <td>2021-05-01</td>\n      <td>15</td>\n      <td>11927</td>\n      <td>O2w</td>\n      <td>Terunofuji</td>\n      <td>12-3</td>\n      <td>0</td>\n      <td>tsukiotoshi</td>\n      <td>12191</td>\n      <td>O1w</td>\n      <td>Takakeisho</td>\n      <td>12-3</td>\n      <td>1</td>\n    </tr>\n    <tr>\n      <th>219987</th>\n      <td>2021-05-01</td>\n      <td>15</td>\n      <td>12191</td>\n      <td>O1w</td>\n      <td>Takakeisho</td>\n      <td>12-3</td>\n      <td>1</td>\n      <td>tsukiotoshi</td>\n      <td>11927</td>\n      <td>O2w</td>\n      <td>Terunofuji</td>\n      <td>12-3</td>\n      <td>0</td>\n    </tr>\n    <tr>\n      <th>219988</th>\n      <td>2021-05-01</td>\n      <td>16</td>\n      <td>11927</td>\n      <td>O2w</td>\n      <td>Terunofuji</td>\n      <td>(12-3)</td>\n      <td>1</td>\n      <td>hatakikomi</td>\n      <td>12191</td>\n      <td>O1w</td>\n      <td>Takakeisho</td>\n      <td>(12-3)</td>\n      <td>0</td>\n    </tr>\n    <tr>\n      <th>219989</th>\n      <td>2021-05-01</td>\n      <td>16</td>\n      <td>12191</td>\n      <td>O1w</td>\n      <td>Takakeisho</td>\n      <td>(12-3)</td>\n      <td>0</td>\n      <td>hatakikomi</td>\n      <td>11927</td>\n      <td>O2w</td>\n      <td>Terunofuji</td>\n      <td>(12-3)</td>\n      <td>1</td>\n    </tr>\n  </tbody>\n</table>\n</div>"
     },
     "metadata": {},
     "execution_count": 20
    }
   ],
   "source": [
    "results['tournament_date'] = pd.to_datetime(results['tournament_date'].astype(str), format='%Y.%m')\n",
    "results.tail()"
   ]
  },
  {
   "cell_type": "code",
   "execution_count": 21,
   "metadata": {},
   "outputs": [
    {
     "output_type": "stream",
     "name": "stdout",
     "text": [
      "<class 'pandas.core.frame.DataFrame'>\nRangeIndex: 219990 entries, 0 to 219989\nData columns (total 13 columns):\n #   Column            Non-Null Count   Dtype         \n---  ------            --------------   -----         \n 0   tournament_date   219990 non-null  datetime64[ns]\n 1   day               219990 non-null  int64         \n 2   wrestler1_id      219990 non-null  int64         \n 3   wrestler1_rank    219990 non-null  object        \n 4   wrestler1_name    219990 non-null  object        \n 5   wrestler1_result  219990 non-null  object        \n 6   wrestler1_win     219990 non-null  int64         \n 7   finishing_move    219990 non-null  object        \n 8   wrestler2_id      219990 non-null  int64         \n 9   wrestler2_rank    219990 non-null  object        \n 10  wrestler2_name    219990 non-null  object        \n 11  wrestler2_result  219990 non-null  object        \n 12  wrestler2_win     219990 non-null  int64         \ndtypes: datetime64[ns](1), int64(5), object(7)\nmemory usage: 21.8+ MB\n"
     ]
    }
   ],
   "source": [
    "results.info()"
   ]
  },
  {
   "cell_type": "code",
   "execution_count": 22,
   "metadata": {},
   "outputs": [],
   "source": [
    "results.to_csv('data/results_clean.csv')"
   ]
  },
  {
   "cell_type": "code",
   "execution_count": null,
   "metadata": {},
   "outputs": [],
   "source": [
    "#taw = top active wrestler\n",
    "taw_id_dict = {\n",
    "    1123: \"Hakuho\"\n",
    "    5944: \"Tamawashi\"\n",
    "    6463: \"Okinoumi\"\n",
    "    6480: \"Takayasu\"\n",
    "    6642: \"Chiyonokuni\"\n",
    "    6753: \"Kaisei\"\n",
    "    7153: \"Kotoeko\"\n",
    "    7240: \"Chiyomaru\"\n",
    "    11726: \"Tokushoryu\"\n",
    "    11728: \"Takarafuji\"\n",
    "    11784: \"Myogiryu\"\n",
    "    11785: \"Chiyoshoma\"\n",
    "    11786: \"Aoiyama\"\n",
    "    11840: \"Chiyonoo\"\n",
    "    11845: \"Kagayaki\"\n",
    "    11855: \"Takanosho\"\n",
    "    11927: \"Terunofuji\"\n",
    "    11946: \"Meisei\"\n",
    "    11985: \"Daieisho\"\n",
    "    12024: \"Shimanoumi\"\n",
    "    12026: \"Hidenoumi\"\n",
    "    12043: \"Onosho\"\n",
    "    12051: \"Ishiura\"\n",
    "    12055: \"Endo\"\n",
    "    12107: \"Ichinojo\"\n",
    "    12113: \"Tsurugisho\"\n",
    "    12130: \"Shodai\"\n",
    "    12191: \"Takakeisho\"\n",
    "    12210: \"Mitakeumi\"\n",
    "    12226: \"Ura\"\n",
    "    12231: \"Kiribayama\"\n",
    "    12239: \"Hokutofuji\"\n",
    "    12270: \"Kotonowaka\"\n",
    "    12273: \"Daiamami\"\n",
    "    12291: \"Asanoyama\"\n",
    "    12362: \"Ichiyamamoto\"\n",
    "    12370: \"Wakatakakage\"\n",
    "    12451: \"Hoshoryu\"\n",
    "}"
   ]
  }
 ]
}